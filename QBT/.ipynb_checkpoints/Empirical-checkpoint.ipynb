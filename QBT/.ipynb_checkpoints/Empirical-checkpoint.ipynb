{
 "cells": [
  {
   "cell_type": "code",
   "execution_count": 1,
   "id": "68b9db41",
   "metadata": {},
   "outputs": [],
   "source": [
    "# import\n",
    "import pandas as pd\n",
    "from collections import OrderedDict\n",
    "from operator import itemgetter    \n",
    "import re"
   ]
  },
  {
   "cell_type": "code",
   "execution_count": 2,
   "id": "c302a3cf",
   "metadata": {},
   "outputs": [
    {
     "name": "stdout",
     "output_type": "stream",
     "text": [
      "(5694, 23)\n"
     ]
    }
   ],
   "source": [
    "df = pd.read_csv(r'../QBT/SOtagsserverless.csv', sep=',')\n",
    "print(df.shape)\n"
   ]
  },
  {
   "cell_type": "code",
   "execution_count": 3,
   "id": "180d6798",
   "metadata": {},
   "outputs": [
    {
     "name": "stdout",
     "output_type": "stream",
     "text": [
      "5694\n",
      "OrderedDict([('serverless', 2745), ('serverless-framework', 2645), ('amazon-web-services', 2415), ('aws-lambda', 2286), ('node.js', 1018), ('aws-serverless', 1012), ('aws-api-gateway', 517), ('amazon-cloudformation', 403), ('python', 304), ('amazon-s3', 296), ('amazon-dynamodb', 289), ('javascript', 277), ('azure', 186), ('lambda', 180), ('serverless-architecture', 174), ('aws-aurora-serverless', 170), ('azure-functions', 145), ('amazon-cognito', 142), ('typescript', 112), ('google-cloud-functions', 112), ('yaml', 108), ('express', 101), ('google-cloud-platform', 99), ('webpack', 97), ('amazon-iam', 95), ('aws-sam', 91), ('amazon-aurora', 91), ('next.js', 89), ('reactjs', 88), ('serverless-offline', 88), ('mysql', 75), ('docker', 75), ('amazon-rds', 71), ('aws-step-functions', 68), ('graphql', 68), ('python-3.x', 67), ('java', 66), ('amazon-sqs', 64), ('serverless-application-model', 63), ('amazon-cloudfront', 63), ('aws-appsync', 58), ('vercel', 52), ('c#', 51), ('aws-sdk', 50), ('npm', 50), ('postgresql', 49), ('mongodb', 45), ('amazon-cloudwatch', 45), ('amazon-sns', 44), ('aws-sam-cli', 43), ('serverless-plugins', 42), ('openwhisk', 41), ('aws-amplify', 41), ('api', 38), ('microservices', 37), ('angular', 36), ('go', 36), ('firebase', 36), ('boto3', 35), ('nestjs', 35), ('cors', 32), ('.net-core', 32), ('deployment', 31), ('terraform', 30), ('json', 28), ('netlify', 28), ('websocket', 27), ('amazon-ec2', 27), ('rest', 26), ('cloud', 26), ('kubernetes', 26), ('amazon-vpc', 26), ('mongoose', 25), ('aws-lambda-layers', 25), ('dynamodb-queries', 25), ('aws-cdk', 25), ('google-cloud-run', 24), ('flask', 24), ('sequelize.js', 24), ('jestjs', 24), ('architecture', 24), ('sam', 23), ('cron', 23), ('visual-studio-code', 23), ('aws-codebuild', 22), ('aws-lambda-edge', 22), ('amazon-route53', 22), ('php', 21), ('amazon-ses', 20), ('environment-variables', 20), ('ibm-cloud', 20), ('asp.net-core', 20), ('serverless-webpack-plugin', 20), ('aws-codepipeline', 20), ('swagger', 19), ('apollo-server', 19), ('typeorm', 19), ('laravel', 19), ('.net', 19), ('aws-cli', 18), ('serverless-framework-step-functions', 18), ('azure-synapse', 18), ('serverless-framework-offline', 18), ('localstack', 18), ('django', 17), ('security', 17), ('puppeteer', 17), ('bref', 17), ('api-gateway', 16), ('faas', 15), ('spring-boot', 15), ('database', 15), ('amazon-ecs', 15), ('amazon-kinesis', 15), ('zappa', 15), ('aws-event-bridge', 15), ('lambda-authorizer', 14), ('axios', 14), ('sql', 14), ('authentication', 14), ('github-actions', 14), ('aws-iot', 14), ('google-cloud-firestore', 13), ('debugging', 13), ('aws-secrets-manager', 13), ('aws-fargate', 13), ('aws-xray', 13), ('devops', 12), ('gitlab', 12), ('angular-universal', 12), ('cloudflare-workers', 12), ('cloudflare', 12), ('function', 12), ('async-await', 11), ('server', 11), ('ibm-cloud-functions', 11), ('caching', 11), ('aws-cognito', 11), ('git', 11), ('azure-durable-functions', 11), ('nosql', 11), ('server-side-rendering', 10), ('gitlab-ci', 10), ('apollo', 10), ('azure-cosmosdb', 10), ('containers', 10), ('amazon-redshift', 10), ('amazon-dynamodb-streams', 10), ('babeljs', 10), ('faunadb', 10), ('openfaas', 10), ('google-app-engine', 10), ('redis', 10), ('mocha.js', 10), ('openapi', 9), ('docker-compose', 9), ('unit-testing', 9), ('signalr', 9), ('pip', 9), ('multipartform-data', 9), ('twilio', 9), ('aws-codecommit', 9), ('powershell', 9), ('aws-sdk-nodejs', 9), ('nuxt.js', 9), ('node-modules', 9), ('concurrency', 9), ('continuous-deployment', 9), ('maven', 9), ('amazon-elasticache', 9), ('csv', 9), ('bitbucket-pipelines', 8), ('authorization', 8), ('wsgi', 8), ('auth0', 8), ('pdf', 8), ('http', 8), ('serverless-stack', 8), ('amazon-api-gateway', 8), ('asynchronous', 8), ('macos', 8), ('sql-server', 8), ('netlify-function', 8), ('react-native', 8), ('webhooks', 8), ('aws-ssm', 8), ('aws-glue', 8), ('sharp', 8), ('elasticsearch', 8), ('oauth-2.0', 8), ('aws-parameter-store', 8), ('azure-logic-apps', 7), ('numpy', 7), ('amazon-cloudwatchlogs', 7), ('ruby', 7), ('jenkins', 7), ('azure-devops', 7), ('web', 7), ('dynamo-local', 7), ('backend', 7), ('knative', 7), ('orm', 7), ('azure-sql-database', 7), ('serverless.com', 7), ('continuous-integration', 7), ('scala', 7), ('jwt', 7), ('google-chrome', 7), ('aws-http-api', 7), ('aws-kms', 6), ('slack-api', 6), ('es6-promise', 6), ('google-cloud-storage', 6), ('aws-rds-data-service', 6), ('github', 6), ('spring-cloud', 6), ('spring-cloud-function', 6), ('sqlalchemy', 6), ('database-design', 6), ('triggers', 6), ('cold-start', 6), ('python-2.7', 6), ('asp.net-core-webapi', 6), ('swagger-ui', 6), ('oauth', 6), ('apache-kafka', 6), ('windows', 6), ('gcloud', 6), ('dns', 6), ('moonmail', 6), ('ssl', 5), ('amazon-dynamodb-local', 5), ('postman', 5), ('google-cloud-pubsub', 5), ('swift', 5), ('monorepo', 5), ('logging', 5), ('amazon-dynamodb-index', 5), ('spring', 5), ('yarnpkg', 5), ('vscode-debugger', 5), ('claudiajs', 5), ('aws-cloudformation-custom-resource', 5), ('amazon-sagemaker', 5), ('webrtc', 5), ('https', 5), ('ffmpeg', 5), ('jamstack', 5), ('vue.js', 5), ('httpresponse', 5), ('local', 5), ('single-page-application', 5), ('aws-sdk-js', 5), ('testing', 5), ('proxy', 5), ('linux', 5), ('amazon-cloudwatch-events', 5), ('kotlin', 5), ('html', 5), ('mongodb-atlas', 5), ('aws-code-deploy', 5), ('chalice', 5), ('kubeless', 5), ('promise', 5), ('jsonschema', 5), ('create-react-app', 5), ('firebase-authentication', 5), ('amazon-efs', 5), ('terraform-provider-aws', 5), ('python-3.6', 4), ('frameworks', 4), ('file-upload', 4), ('sinon', 4), ('angularjs', 4), ('alibaba-cloud', 4), ('web-scraping', 4), ('lerna', 4), ('alexa', 4), ('google-cloud-sql', 4), ('request', 4), ('amazon-athena', 4), ('yarn-workspaces', 4), ('visual-studio', 4), ('ssm', 4), ('tensorflow', 4), ('curl', 4), ('google-cloud-dataproc', 4), ('google-cloud-dataproc-serverless', 4), ('r', 4), ('custom-domain', 4), ('amazon-cognito-triggers', 4), ('iot', 4), ('amazon-waf', 4), ('bitbucket', 4), ('fetch', 4), ('aws-msk', 4), ('aws-iam', 4), ('hasura', 4), ('middy', 4), ('dotenv', 4), ('aws-java-sdk', 4), ('ios', 4), ('laravel-vapor', 4), ('amazon-redshift-serverless', 4), ('http-headers', 4), ('endpoint', 4), ('integration-testing', 4), ('ibm-cloud-code-engine', 4), ('stripe-payments', 4), ('keda', 4), ('fastapi', 4), ('post', 4), ('scheduled-tasks', 4), ('amazon-kinesis-firehose', 4), ('event-handling', 4), ('circleci', 4), ('vtl', 4), ('realm', 4), ('validation', 4), ('error-handling', 4), ('google-vpc', 4), ('redirect', 4), ('azure-function-app', 4), ('multi-factor-authentication', 4), ('cognito', 4), ('velocity', 3), ('sentry', 3), ('load-testing', 3), ('ubuntu-16.04', 3), ('node-postgres', 3), ('connection-pooling', 3), ('azure-keyvault', 3), ('middleware', 3), ('alexa-skill', 3), ('rbac', 3), ('asp.net-core-2.1', 3), ('encryption', 3), ('dynamoose', 3), ('opencv', 3), ('azure-api-management', 3), ('aws-toolkit', 3), ('algolia', 3), ('spacy', 3), ('firebase-realtime-database', 3), ('angularfire2', 3), ('routes', 3), ('dependency-injection', 3), ('claudia.js', 3), ('aws-userpools', 3), ('automated-tests', 3), ('react-router', 3), ('ssl-certificate', 3), ('dockerfile', 3), ('apache', 3), ('aws-batch', 3), ('aws-policies', 3), ('dlib', 3), ('staging', 3), ('resources', 3), ('gatsby', 3), ('pg', 3), ('config', 3), ('http-status-code-502', 3), ('nodes', 3), ('file', 3), ('infrastructure', 3), ('version', 3), ('python-3.7', 3), ('ubuntu', 3), ('knex.js', 3), ('aws-sdk-js-v3', 3), ('botframework', 3), ('split-stacks', 3), ('bad-gateway', 3), ('types', 3), ('upload', 3), ('token', 3), ('aws-elasticsearch', 3), ('azure-functions-runtime', 3), ('ecmascript-6', 3), ('dependencies', 3), ('quarkus', 3), ('datadog', 3), ('dialogflow-es', 3), ('package.json', 3), ('ajax', 3), ('binary', 3), ('xmlhttprequest', 3), ('imagemagick', 3), ('azure-active-directory', 3), ('nodemailer', 3), ('pre-signed-url', 3), ('google-kubernetes-engine', 3), ('p2p', 3), ('ftp', 3), ('web-applications', 3), ('bcrypt', 3), ('message-queue', 3), ('python-requests', 3), ('azure-eventgrid', 3), ('eslint', 3), ('state-machine', 3), ('google-chrome-headless', 3), ('layer', 3), ('schedule', 3), ('socket.io', 3), ('google-cloud-dataflow', 3), ('multi-tenant', 3), ('slack', 3), ('flutter', 3), ('aws-codestar', 3), ('amazon-rds-proxy', 3), ('sls', 3), ('api-key', 3), ('versioning', 2), ('koa', 2), ('telegram', 2), ('cron-task', 2), ('cloud-foundry', 2), ('npm-install', 2), ('facebook-graph-api', 2), ('selenium-chromedriver', 2), ('azureservicebus', 2), ('azure-servicebus-queues', 2), ('http-post', 2), ('ejs', 2), ('signalr-hub', 2), ('permissions', 2), ('virtual-machine', 2), ('postgis', 2), ('mysql-5.6', 2), ('webdriver-io', 2), ('azure-pipelines', 2), ('nginx', 2), ('gateway', 2), ('documentclient', 2), ('requirements.txt', 2), ('firebase-cloud-messaging', 2), ('angular6', 2), ('configuration', 2), ('invoke', 2), ('amazon-elb', 2), ('symlink', 2), ('google-drive-api', 2), ('aws-sdk-go', 2), ('networking', 2), ('seeding', 2), ('federated-identity', 2), ('c++', 2), ('subprocess', 2), ('pdb', 2), ('graphql-schema', 2), ('moto', 2), ('http-status-code-403', 2), ('chromeless', 2), ('scikit-learn', 2), ('sequelize-typescript', 2), ('newrelic', 2), ('packaging', 2), ('rds', 2), ('asp.net', 2), ('signalr-service', 2), ('powershell-core', 2), ('database-migration', 2), ('azure-functions-core-tools', 2), ('firebase-admin', 2), ('aws-application-load-balancer', 2), ('docker-image', 2), ('internationalization', 2), ('hosting', 2), ('graalvm', 2), ('data-science', 2), ('nlp', 2), ('mlops', 2), ('discord', 2), ('android', 2), ('timezone', 2), ('cookies', 2), ('azure-powershell', 2), ('kubernetes-helm', 2), ('readfile', 2), ('workflow', 2), ('mocking', 2), ('azure-web-app-service', 2), ('sqlite', 2), ('asp.net-core-mvc', 2), ('container-registry', 2), ('uuid', 2), ('queue', 2), ('psycopg2', 2), ('jdbc', 2), ('tedious', 2), ('multithreading', 2), ('micronaut', 2), ('messaging', 2), ('svg', 2), ('okta', 2), ('notifications', 2), ('sockets', 2), ('azure-aks', 2), ('knative-serving', 2), ('aws-data-wrangler', 2), ('binance', 2), ('forms', 2), ('aws-app-config', 2), ('apple-m1', 2), ('ngrok', 2), ('ssh-tunnel', 2), ('documentation', 2), ('service-accounts', 2), ('regex', 2), ('slim', 2), ('python-zappa', 2), ('amazon-timestream', 2), ('zip', 2), ('bucket', 2), ('botocore', 2), ('azure-storage', 2), ('couchbase', 2), ('ip-address', 2), ('amazon-elastic-beanstalk', 2), ('rabbitmq', 2), ('json.net', 2), ('session', 2), ('command-line', 2), ('svelte', 2), ('node-debugger', 2), ('tsconfig', 2), ('facebook-messenger-bot', 2), ('twilio-api', 2), ('bluebird', 2), ('cross-reference', 2), ('python-packaging', 2), ('django-models', 2), ('fluent-ffmpeg', 2), ('bash', 2), ('stream', 2), ('eventtrigger', 2), ('angular8', 2), ('jquery', 2), ('redux', 2), ('mqtt', 2), ('psql', 2), ('google-bigquery', 2), ('schema', 2), ('migration', 2), ('distributed-computing', 2), ('hyperdrive', 2), ('graphql-subscriptions', 2), ('azure-application-insights', 2), ('mailgun', 2), ('real-time', 2), ('azure-monitoring', 2), ('query-string', 2), ('cqrs', 2), ('event-sourcing', 2), ('image-upload', 2), ('azure-blob-storage', 2), ('publish-subscribe', 2), ('hibernate', 2), ('jpa', 2), ('request-validation', 2), ('vpc', 2), ('webtask', 2), ('cloud-hosting', 2), ('http-proxy-middleware', 2), ('code-coverage', 2), ('tdd', 2), ('busboy', 2), ('python-imaging-library', 2), ('frontend', 2), ('keras', 2), ('azure-data-lake', 2), ('amazon-data-pipeline', 2), ('aws-amplify-cli', 2), ('response-headers', 2), ('alibaba-cloud-function-compute', 2), ('fn', 2), ('aws-lambda-containers', 2), ('arrays', 2), ('single-sign-on', 2), ('mysql-python', 2), ('rust', 2), ('pandas', 2), ('google-oauth', 2), ('sql-update', 2), ('prisma', 2), ('google-api-gateway', 2), ('serverless-express', 2), ('java-11', 2), ('handler', 2), ('performance-testing', 2), ('airtable', 2), ('cost-management', 2), ('laravel-8', 2), ('integration', 2), ('google-calendar-api', 2), ('pyspark', 2), ('parallel-processing', 2), ('confluent-platform', 2), ('distributed', 2), ('graphql-js', 2), ('design-patterns', 2), ('ruby-on-rails', 2), ('elastic-mq', 2), ('werkzeug', 2), ('app-config', 2), ('templates', 2), ('jvm', 2), ('makefile', 2), ('service', 2), ('delta-lake', 2), ('google-cloud-kms', 1), ('ruby-2.5', 1), ('offline', 1), ('diego', 1), ('organization', 1), ('chown', 1), ('json-deserialization', 1), ('parse-platform', 1), ('mbaas', 1), ('replicaset', 1), ('alamofire', 1), ('pdo', 1), ('alexa-voice-service', 1), ('node-soap', 1), ('azure-rbac', 1), ('asp.net-mvc', 1), ('jwt-auth', 1), ('haskell', 1), ('servant', 1), ('ponyorm', 1), ('sqltransaction', 1), ('webdriver', 1), ('loops', 1), ('amazon-quicksight', 1), ('cloudinary', 1), ('node-mongodb-native', 1), ('google-pagespeed', 1), ('hugo', 1), ('fs-extra', 1), ('vagrant', 1), ('openvpn', 1), ('stackdriver', 1), ('lamar', 1), ('html-pdf', 1), ('laravel-valet', 1), ('laravel-6', 1), ('azure-webjobs', 1), ('database-trigger', 1), ('node-request', 1), ('pandas-to-sql', 1), ('runtime', 1), ('readline', 1), ('acceptance-testing', 1), ('text-to-speech', 1), ('http-status-code-405', 1), ('sst', 1), ('ssh', 1), ('apt', 1), ('amazon-linux-2', 1), ('proxysql', 1), ('amazon-simpledb', 1), ('object-oriented-database', 1), ('wsl-2', 1), ('pagination', 1), ('react-pagination', 1), ('dlib-python', 1), ('xvfb', 1), ('rdbms', 1), ('release-management', 1), ('reporting-services', 1), ('rdlc', 1), ('phpmyadmin', 1), ('laravel-facade', 1), ('google-cloud-datastore', 1), ('dynogels', 1), ('pillow', 1), ('aws-visual-studio-toolkit', 1), ('auto-versioning', 1), ('sharepoint', 1), ('amazon-glacier', 1), ('amazon-policy', 1), ('prismic.io', 1), ('http-delete', 1), ('task-queue', 1), ('pymongo', 1), ('insomnia', 1), ('action', 1), ('typescript-typings', 1), ('web-application-firewall', 1), ('openapi-generator', 1), ('swagger-2.0', 1), ('nrwl-nx', 1), ('huggingface-transformers', 1), ('ubuntu-20.04', 1), ('custom-headers', 1), ('visual-studio-debugging', 1), ('response', 1), ('spring-webflux', 1), ('upgrade', 1), ('apim', 1), ('git-submodules', 1), ('nuclio', 1), ('codenameone', 1), ('manual', 1), ('signaling', 1), ('aws-regions', 1), ('google-cloud-load-balancer', 1), ('url-masking', 1), ('progressive-web-apps', 1), ('quota', 1), ('blob', 1), ('gif', 1), ('monitoring', 1), ('sanity', 1), ('mobile', 1), ('spring-cloud-aws', 1), ('events', 1), ('chatbot', 1), ('singleton', 1), ('minikube', 1), ('rds-data-api', 1), ('twilio-taskrouter', 1), ('bluetooth', 1), ('keyboard', 1), ('mouse', 1), ('openstack', 1), ('filesize', 1), ('css', 1), ('inject', 1), ('antd', 1), ('azure-ad-b2c', 1), ('node.js-addon', 1), ('bad-request', 1), ('aws-mobilehub', 1), ('pymysql', 1), ('load', 1), ('paytm', 1), ('perl', 1), ('telegram-bot', 1), ('timestamp', 1), ('http-proxy', 1), ('digest-authentication', 1), ('virtualbox', 1), ('escaping', 1), ('grandstack', 1), ('aws-alb', 1), ('alexa-skills-kit', 1), ('unicode', 1), ('amazon-rekognition', 1), ('reactive-programming', 1), ('lti', 1), ('canvas', 1), ('hapijs', 1), ('hapi', 1), ('echo', 1), ('azure-bot-service', 1), ('datetime', 1), ('date-arithmetic', 1), ('strapi', 1), ('webdav', 1), ('marketplace', 1), ('kata-containers', 1), ('material-ui', 1), ('esbuild', 1), ('launchdarkly', 1), ('objectmapper', 1), ('artillery', 1), ('google-anthos', 1), ('nextjs-dynamic-routing', 1), ('nextjs-rewrites', 1), ('sbt', 1), ('sbt-assembly', 1), ('google-container-registry', 1), ('serverless-bundle', 1), ('refresh-token', 1), ('trace', 1), ('clouddevelopmentkit', 1), ('basic-authentication', 1), ('api-design', 1), ('git-workflow', 1), ('digital-ocean', 1), ('shapely', 1), ('canary-deployment', 1), ('ip', 1), ('concurrently', 1), ('google-data-studio', 1), ('app-engine-flexible', 1), ('mobile-development', 1), ('multer-s3', 1), ('unique-constraint', 1), ('cloudbees', 1), ('path', 1), ('redislabs', 1), ('event-loop', 1), ('great-firewall-of-china', 1), ('package-lock.json', 1), ('dropwizard', 1), ('reverse-proxy', 1), ('traefik', 1), ('react-starter-kit', 1), ('wand', 1), ('e2e-testing', 1), ('cypress', 1), ('azure-app-service-envrmnt', 1), ('multer', 1), ('bulkinsert', 1), ('web-api-testing', 1), ('titan', 1), ('gremlin', 1), ('localhost', 1), ('rxjs', 1), ('pdfmake', 1), ('pyppeteer', 1), ('dialogflow-es-fulfillment', 1), ('batch-processing', 1), ('splunk', 1), ('servlet-container', 1), ('event-gateway', 1), ('spring-context', 1), ('lda', 1), ('mime-types', 1), ('repl.it', 1), ('azure-batch', 1), ('return-value', 1), ('junit', 1), ('prefect', 1), ('rollback', 1), ('apiblueprint', 1), ('api-doc', 1), ('stdout', 1), ('access-denied', 1), ('webpack-dev-server', 1), ('xgboost', 1), ('aws-access-policy', 1), ('flask-babel', 1), ('exchangelib', 1), ('sapper', 1), ('elf', 1), ('libxml2', 1), ('node-inspector', 1), ('plugins', 1), ('greengrass', 1), ('daemon', 1), ('image-processing', 1), ('soap', 1), ('flyway', 1), ('jooq', 1), ('azure-resource-group', 1), ('pact', 1), ('intellij-idea', 1), ('unauthorized', 1), ('sleep', 1), ('node-pdfkit', 1), ('facebook', 1), ('seo', 1), ('graphene-python', 1), ('irc', 1), ('cube.js', 1), ('forestadmin', 1), ('parcel', 1), ('google-sheets-api', 1), ('google-authentication', 1), ('asp.net-core-3.0', 1), ('apollo-client', 1), ('django-views', 1), ('excel', 1), ('nest', 1), ('transactions', 1), ('commit', 1), ('isolation', 1), ('stun', 1), ('ice', 1), ('vnet', 1), ('hadoop-yarn', 1), ('memory', 1), ('node-http-proxy', 1), ('ibm-watson', 1), ('trello', 1), ('architect', 1), ('formidable', 1), ('tags', 1), ('django-orm', 1), ('node-redis', 1), ('adal.js', 1), ('realm-mobile-platform', 1), ('development-environment', 1), ('dbmigrate', 1), ('asp.net-core-mvc-2.1', 1), ('amazon-gateway', 1), ('aws-vpc', 1), ('service-worker', 1), ('nodejs-stream', 1), ('connector', 1), ('google-cloud-scheduler', 1), ('google-compute-engine', 1), ('pickle', 1), ('azure-cli', 1), ('google-apps-script', 1), ('google-workspace', 1), ('azure-sql-managed-instance', 1), ('jms', 1), ('amazon-mq', 1), ('tableau-api', 1), ('ipfs', 1), ('gossip', 1), ('gnupg', 1), ('audio', 1), ('audio-processing', 1), ('asp.net-core-signalr', 1), ('signalr-client', 1), ('xss', 1), ('csrf', 1), ('websecurity', 1), ('laravel-blade', 1), ('database-connection', 1), ('mysql.data', 1), ('firebase-cli', 1), ('gcloud-cli', 1), ('signature', 1), ('code-sharing', 1), ('mapbox-gl', 1), ('terminal', 1), ('tsc', 1), ('twilio-twiml', 1), ('qlikview', 1), ('qliksense', 1), ('web-crawler', 1), ('exit', 1), ('simplify', 1), ('high-load', 1), ('akka', 1), ('akka-persistence', 1), ('calculator', 1), ('openid-connect', 1), ('runtime-error', 1), ('phantomjs', 1), ('pdfhtml', 1), ('nowjs-sockets', 1), ('ray', 1), ('gdal', 1), ('geodjango', 1), ('dataflow', 1), ('paas', 1), ('tensorflow2.0', 1), ('azure-signalr', 1), ('peer', 1), ('actframework', 1), ('amazon', 1), ('automation', 1), ('kubernetes-ingress', 1), ('bookshelf.js', 1), ('binary-data', 1), ('blazor', 1), ('azure-static-website-hosting', 1), ('azure-container-instances', 1), ('typescript-eslint', 1), ('mailchimp', 1), ('esp8266', 1), ('session-cookies', 1), ('url-rewriting', 1), ('web-deployment', 1), ('parameters', 1), ('datastore', 1), ('laravel-mix', 1), ('icecast', 1), ('critical-css', 1), ('zsh', 1), ('iterm2', 1), ('hummus.js', 1), ('pki', 1), ('csr', 1), ('node-forge', 1), ('eclipse', 1), ('node-fetch', 1), ('aws-marketplace', 1), ('ibm-cloud-storage', 1), ('aws-cloud9', 1), ('awsdeploy', 1), ('swift3', 1), ('multipeer-connectivity', 1), ('row-level-security', 1), ('web-worker', 1), ('kyma', 1), ('maps', 1), ('graph', 1), ('instagram', 1), ('mongodb-realm', 1), ('limit', 1), ('apigee', 1), ('pyyaml', 1), ('synchronization', 1), ('oop', 1), ('event-driven', 1), ('procedural-programming', 1), ('xamarin', 1), ('memcached', 1), ('web-services', 1), ('job-scheduling', 1), ('angular9', 1), ('google-cloud-stackdriver', 1), ('aws-config', 1), ('cloud-platform', 1), ('static', 1), ('xstate', 1), ('nexmo', 1), ('apscheduler', 1), ('css-purge', 1), ('sinon-chai', 1), ('nyc', 1), ('metabase', 1), ('project-structure', 1), ('aws-certificate-manager', 1), ('watson-assistant', 1), ('maven-shade-plugin', 1), ('infrastructure-as-code', 1), ('sequelize-cli', 1), ('backup', 1), ('sms', 1), ('network-programming', 1), ('broadcast', 1), ('moviepy', 1), ('whitelist', 1), ('vogels', 1), ('aws-data-pipeline', 1), ('live', 1), ('azure-purview', 1), ('momentjs', 1), ('xunit', 1), ('google-analytics-api', 1), ('bootstrap-4', 1), ('gunicorn', 1), ('alibaba-cloud-oss', 1), ('csx', 1), ('tsconfig-paths', 1), ('regional', 1), ('video', 1), ('video.js', 1), ('node-mysql2', 1), ('node-schedule', 1), ('input', 1), ('parsing', 1), ('es6-modules', 1), ('performance', 1), ('load-balancing', 1), ('azure-traffic-manager', 1), ('fine-uploader', 1), ('azure-log-analytics', 1), ('usage-statistics', 1), ('node-https', 1), ('sentiment-analysis', 1), ('s3-bucket', 1), ('event-driven-design', 1), ('aws-amplify-sdk-js', 1), ('graphicsmagick', 1), ('http-status-code-404', 1), ('azure-ad-graph-api', 1), ('velocity-template-language', 1), ('mysql-connector', 1), ('policy', 1), ('channel', 1), ('mysql2', 1), ('aws-chime-sdk', 1), ('database-backups', 1), ('visualization', 1), ('mappings', 1), ('pandoc', 1), ('cdn', 1), ('passport.js', 1), ('data-pipeline', 1), ('aws-opsworks', 1), ('aws-billing', 1), ('jar', 1), ('sql-delete', 1), ('opengl', 1), ('nvidia', 1), ('egl', 1), ('oauth.io', 1), ('http2', 1), ('.net-core-3.1', 1), ('azure-files', 1), ('aws-state-machine', 1), ('couchdb', 1), ('cloudant', 1), ('silverstripe', 1), ('silverstripe-4', 1), ('pgadmin-4', 1), ('typedi', 1), ('openssl', 1), ('task', 1), ('snowflake-cloud-data-platform', 1), ('autoscaling', 1), ('jsonb', 1), ('url-routing', 1), ('production-environment', 1), ('deep-learning', 1), ('model', 1), ('locust', 1), ('gcp-load-balancer', 1), ('typegraphql', 1), ('streamlit', 1), ('npm-scripts', 1), ('openweathermap', 1), ('wkhtmltopdf', 1), ('browserify', 1), ('logentries', 1), ('ajv', 1), ('provisioning', 1), ('aws-auto-scaling', 1), ('flask-restful', 1), ('flask-mail', 1), ('apache-camel', 1), ('ipaas', 1), ('if-statement', 1), ('heroku', 1), ('lua', 1), ('amazon-appflow', 1), ('exif', 1), ('bytestream', 1), ('google-workflows', 1), ('react-native-android', 1), ('react-native-ios', 1), ('autodesk-forge', 1), ('python-sphinx', 1), ('restructuredtext', 1), ('docutils', 1), ('sql-server-2012', 1), ('database-administration', 1), ('gmail', 1), ('onelogin', 1), ('pygsheets', 1), ('google-cloud-billing', 1), ('innodb', 1), ('full-text-indexing', 1), ('python-module', 1), ('greenlets', 1), ('wolkenkit', 1), ('aws-systems-manager', 1), ('kubernetes-fission', 1), ('push-notification', 1), ('console.log', 1), ('jenkins-pipeline', 1), ('stored-procedures', 1), ('aws-credentials', 1), ('clair', 1), ('building-github-actions', 1), ('plotly-dash', 1), ('datastax', 1), ('storage', 1), ('express-router', 1), ('offline-mode', 1), ('visual-studio-2019', 1), ('timeserieschart', 1), ('imagick', 1), ('winston', 1), ('dead-letter', 1), ('tagging', 1), ('react-hooks', 1), ('firefox', 1), ('rate-limiting', 1), ('webstorm', 1), ('godaddy-api', 1), ('vitess', 1), ('fifo', 1), ('scripting', 1), ('google-api', 1), ('sendgrid', 1), ('user-management', 1), ('cassandra', 1), ('hashset', 1), ('zombie.js', 1), ('relational-database', 1), ('amazon-lex', 1), ('gnu-make', 1), ('android-source', 1), ('subdomain', 1), ('cname', 1), ('chmod', 1), ('aws-sdk-net', 1), ('dotnet-cli', 1), ('macos-high-sierra', 1), ('laravel-7', 1), ('azure-cosmosdb-tables', 1), ('two-factor-authentication', 1), ('one-time-password', 1), ('compilation', 1), ('flask-restx', 1), ('diagnostics', 1), ('return', 1), ('full-text-search', 1), ('azure-deployment', 1), ('cpu', 1), ('cpu-usage', 1), ('openrowset', 1), ('graphql-playground', 1), ('postgres-10', 1), ('boilerplate', 1), ('memory-leaks', 1), ('subscription', 1), ('graphcool', 1), ('alias', 1), ('browser', 1), ('cucumber', 1), ('paperclip', 1), ('feast', 1), ('location', 1), ('i18next', 1), ('react-intl', 1), ('external-tables', 1), ('database-replication', 1), ('duplicates', 1), ('machine-learning', 1), ('amazon-ecr', 1), ('mecab', 1), ('mandrill', 1), ('db2', 1), ('decorator', 1), ('reflect-metadata', 1), ('next-auth', 1), ('amazon-kms', 1), ('xml', 1), ('azure-static-web-app', 1), ('pinojs', 1), ('fastify', 1), ('apache-flink', 1), ('project-reactor', 1), ('spring-data-r2dbc', 1), ('r2dbc', 1), ('jackson', 1), ('micronaut-aws', 1), ('keda-scaledjob', 1), ('ansible', 1), ('common-table-expression', 1), ('sql-truncate', 1), ('python-cryptography', 1), ('data-stream', 1), ('apache-spark-sql', 1), ('selenium', 1), ('selenium-webdriver', 1), ('angular-material', 1), ('static-site', 1), ('scalability', 1), ('output', 1), ('spring-boot-starter', 1), ('package', 1), ('amazon-cognito-facebook', 1), ('gradle', 1), ('gensim', 1), ('pg-dump', 1), ('pg-restore', 1), ('node-cron', 1), ('locking', 1), ('snapshot', 1), ('graphql-tools', 1), ('race-condition', 1), ('windows-10', 1), ('etl', 1), ('httprequest', 1), ('amazon-pay', 1), ('aws-rest-api', 1), ('scheduling', 1), ('koa2', 1), ('amazon-cloudtrail', 1), ('refactoring', 1), ('go-modules', 1), ('echarts', 1), ('updates', 1), ('rust-diesel', 1), ('mocha-webpack', 1), ('expo', 1), ('amazon-textract', 1), ('containerd', 1), ('font-awesome', 1), ('azure-http-trigger', 1), ('variables', 1), ('shared-libraries', 1), ('asp.net-web-api', 1), ('polling', 1), ('mongoose-schema', 1), ('solr', 1), ('sitecore', 1), ('azure-appservice', 1), ('stateless', 1), ('aws-documentdb', 1), ('optimization', 1), ('windows-services', 1), ('webpack-4', 1), ('screenshot', 1), ('port', 1), ('mern', 1), ('dashboard', 1), ('apache-beam', 1), ('dart', 1), ('sftp', 1), ('cloud9', 1), ('sveltekit', 1), ('nested-stack', 1), ('supertest', 1), ('activecampaign', 1), ('preflight', 1), ('mlab', 1), ('publish', 1), ('public', 1), ('nltk', 1), ('scaling', 1), ('system-design', 1), ('python-3.9', 1), ('prophet', 1), ('httpapi', 1), ('statistics', 1), ('node-oracledb', 1), ('node-oracle', 1), ('nestjs-config', 1), ('handlebars.js', 1), ('portforwarding', 1), ('image', 1), ('amazon-eks', 1), ('kubernetes-pod', 1), ('databricks', 1), ('azure-data-studio', 1), ('server-sent-events', 1), ('amazon-emr', 1), ('emr-serverless', 1), ('mapbox', 1), ('dat-protocol', 1), ('cache-control', 1), ('aws-php-sdk', 1), ('eventemitter', 1), ('service-discovery', 1), ('asp.net-core-3.1', 1), ('ts-jest', 1), ('freshdesk', 1), ('command-line-interface', 1), ('skia', 1), ('domain-mapping', 1), ('knative-eventing', 1), ('shell', 1), ('discord.js', 1), ('autodesk', 1), ('forge', 1), ('child-process', 1), ('nestjs-swagger', 1), ('import', 1), ('youtube-api', 1), ('video-streaming', 1), ('firebase-hosting', 1), ('restful-url', 1), ('s3-batch', 1), ('maven-archetype', 1), ('horizontal-pod-autoscaling', 1), ('aws-appsync-resolver', 1), ('xero-api', 1), ('appkit', 1), ('angular10', 1), ('authorization-header', 1), ('chrome-aws-lambda', 1), ('azure-queues', 1), ('amplify', 1)])\n"
     ]
    }
   ],
   "source": [
    "# Finding the most common keywords for %serverless%\n",
    "\n",
    "tags = df[\"Tags\"]\n",
    "print(len(tags))\n",
    "\n",
    "tags = tags.str.replace(r'<', '')\n",
    "tags = tags.str.replace(r'>', ' ')\n",
    "tags_list = tags.tolist()\n",
    "\n",
    "list_of_tags = []\n",
    "for x in range(len(tags_list)):\n",
    "    list_of_tags.extend(tags_list[x].split())\n",
    "\n",
    "\n",
    "d = {i:list_of_tags.count(i) for i in list_of_tags}\n",
    "print(OrderedDict(sorted(d.items(), key = itemgetter(1), reverse = True)))\n"
   ]
  },
  {
   "cell_type": "code",
   "execution_count": 82,
   "id": "bdb5a4a8",
   "metadata": {},
   "outputs": [
    {
     "name": "stdout",
     "output_type": "stream",
     "text": [
      "<pre> </pre>\n",
      "\n",
      "\n",
      "<p>I have AWS lambda function that I am trying to call from my web app using Axios. It keeps giving the error: <a href=http://localhost:3000 rel=nofollow noreferrer>http://localhost:3000</a> has been blocked by CORS policy: No Access-Control-Allow-Origin header is present on the requested resource.</p><p>I am using serverless and I have added the cors:true attribute to my function. I have also added:</p><pre><code>            const response = {                statusCode:200,                headers: {                    Access-Control-Allow-Origin: *,                    Access-Control-Allow-Credentials: true                },                body: JSON.stringify({                    message: Ticket received,                    TableData: data,                }),            };            callback(null, response);</code></pre><p>I still cant get this issue resolve. Any help is greatly appreciated.</p>\n",
      "<p>I have AWS lambda function that I am trying to call from my web app using Axios. It keeps giving the error: <a href=http://localhost:3000 rel=nofollow noreferrer>http://localhost:3000</a> has been blocked by CORS policy: No Access-Control-Allow-Origin header is present on the requested resource.</p><p>I am using serverless and I have added the cors:true attribute to my function. I have also added:</p><pre></pre><p>I still cant get this issue resolve. Any help is greatly appreciated.</p>\n"
     ]
    },
    {
     "name": "stderr",
     "output_type": "stream",
     "text": [
      "C:\\Users\\Eric\\AppData\\Local\\Temp/ipykernel_21952/3443461214.py:1: FutureWarning: Passing a negative integer is deprecated in version 1.0 and will not be supported in future version. Instead, use None to not limit the column width.\n",
      "  pd.set_option('display.max_colwidth', -1)\n"
     ]
    }
   ],
   "source": [
    "pd.set_option('display.max_colwidth', -1)\n",
    "body = df[\"Body\"][1]\n",
    "\n",
    "# Example how to remove a substring with a start and end condition.\n",
    "s = \"<pre> <code> <pre>This should be removed </code></pre>\"\n",
    "result = re.sub(r'\\<code>.+</code>','',s)\n",
    "print(result + \"\\n\\n\")\n",
    "\n",
    "# removing \n",
    "body = body.replace('\\'', '')\n",
    "body = body.replace('\\\"', '')\n",
    "body = body.replace('\\n', '')\n",
    "body = body.replace('\\r\"', '')\n",
    "print(body)\n",
    "new_body = re.sub(r'\\<code>.+</code>','',body)\n",
    "\n",
    "print(new_body)"
   ]
  },
  {
   "cell_type": "code",
   "execution_count": 22,
   "id": "c2bcde92",
   "metadata": {},
   "outputs": [
    {
     "name": "stdout",
     "output_type": "stream",
     "text": [
      "2745\n",
      "            Id  PostTypeId  AcceptedAnswerId  ParentId         CreationDate  \\\n",
      "0     54152512           1               NaN       NaN  2019-01-11 19:00:04   \n",
      "1     54214141           1        54214284.0       NaN  2019-01-16 09:40:55   \n",
      "2     54238775           1        54259197.0       NaN  2019-01-17 15:07:49   \n",
      "6     54236104           1        54238688.0       NaN  2019-01-17 12:34:56   \n",
      "8     54442730           1               NaN       NaN  2019-01-30 14:22:16   \n",
      "...        ...         ...               ...       ...                  ...   \n",
      "5686  71072555           1               NaN       NaN  2022-02-10 21:33:59   \n",
      "5687  71062442           1        71064408.0       NaN  2022-02-10 09:11:50   \n",
      "5688  51945078           1               NaN       NaN  2018-08-21 08:56:42   \n",
      "5689  71066930           1               NaN       NaN  2022-02-10 14:30:58   \n",
      "5691  51956134           1        51956212.0       NaN  2018-08-21 20:19:47   \n",
      "\n",
      "      DeletionDate  Score  ViewCount  \\\n",
      "0              NaN     -1        192   \n",
      "1              NaN      1       1614   \n",
      "2              NaN      1       1004   \n",
      "6              NaN      0       1230   \n",
      "8              NaN      0         50   \n",
      "...            ...    ...        ...   \n",
      "5686           NaN      0         15   \n",
      "5687           NaN      0         88   \n",
      "5688           NaN      2        630   \n",
      "5689           NaN      0         31   \n",
      "5691           NaN      6       7700   \n",
      "\n",
      "                                                   Body  OwnerUserId  ...  \\\n",
      "0     <p>I have previously had Serverless installed ...     151438.0  ...   \n",
      "1     <p>I have AWS lambda function that I am trying...    7452865.0  ...   \n",
      "2     <p><em>Requirement</em></p>\\n\\n<p>What I am tr...    3024251.0  ...   \n",
      "6     <p>I have a Logic App which has a recurrence t...    4291176.0  ...   \n",
      "8     <p>I am trying to create an openWhisk PHP acti...    4919600.0  ...   \n",
      "...                                                 ...          ...  ...   \n",
      "5686  <p>I am trying to send SQS events directly fro...    9381473.0  ...   \n",
      "5687  <p>We can refer to the current time in AWS Ste...    1227873.0  ...   \n",
      "5688  <h1>The problem</h1>\\n\\n<p>As there are multip...    5615915.0  ...   \n",
      "5689  <p>I am working on a serverless/nodejs12 proje...    3473925.0  ...   \n",
      "5691  <p>I've set up a small serverless app using La...    3652991.0  ...   \n",
      "\n",
      "             LastEditDate     LastActivityDate  \\\n",
      "0                     NaN  2019-01-11 19:19:23   \n",
      "1                     NaN  2019-06-11 15:08:11   \n",
      "2                     NaN  2019-01-18 17:54:56   \n",
      "6                     NaN  2019-01-24 13:18:03   \n",
      "8                     NaN  2019-01-30 14:38:04   \n",
      "...                   ...                  ...   \n",
      "5686  2022-02-11 17:13:28  2022-02-11 17:13:28   \n",
      "5687                  NaN  2022-02-10 11:36:16   \n",
      "5688  2018-08-21 13:43:43  2018-08-21 13:43:43   \n",
      "5689                  NaN  2022-02-15 20:42:13   \n",
      "5691                  NaN  2021-09-08 07:23:32   \n",
      "\n",
      "                                                  Title  \\\n",
      "0     Connecting to different ARN/Role/Amazon Accoun...   \n",
      "1     AWS Lambda - No 'Access-Control-Allow-Origin' ...   \n",
      "2     AWS SES, email attachment sends base64 string ...   \n",
      "6     Programmatically triggering a Logic App with R...   \n",
      "8          OpenWhisk PHP action showing error as output   \n",
      "...                                                 ...   \n",
      "5686  $context.domainName returns AWS Apigateway exe...   \n",
      "5687         How to get epoch time in AWS Step Function   \n",
      "5688  how to track which git branch is currently dep...   \n",
      "5689  Serverless Event object failed validation at c...   \n",
      "5691            AWS SQS doesn't reliably trigger Lambda   \n",
      "\n",
      "                                                   Tags AnswerCount  \\\n",
      "0                                          <serverless>           1   \n",
      "1               <amazon-web-services><cors><serverless>           1   \n",
      "2     <amazon-web-services><amazon-ses><serverless-f...           1   \n",
      "6                 <azure><azure-logic-apps><serverless>           2   \n",
      "8                          <php><serverless><openwhisk>           1   \n",
      "...                                                 ...         ...   \n",
      "5686  <amazon-web-services><aws-lambda><aws-api-gate...           0   \n",
      "5687  <amazon-web-services><serverless><aws-step-fun...           1   \n",
      "5688  <git><amazon-web-services><aws-lambda><gitlab>...           1   \n",
      "5689  <node.js><amazon-dynamodb><middleware><serverl...           1   \n",
      "5691  <amazon-web-services><aws-lambda><amazon-sqs><...           3   \n",
      "\n",
      "     CommentCount FavoriteCount  ClosedDate  CommunityOwnedDate  \\\n",
      "0               0           NaN         NaN                 NaN   \n",
      "1               1           1.0         NaN                 NaN   \n",
      "2               5           NaN         NaN                 NaN   \n",
      "6               0           1.0         NaN                 NaN   \n",
      "8               0           NaN         NaN                 NaN   \n",
      "...           ...           ...         ...                 ...   \n",
      "5686            0           NaN         NaN                 NaN   \n",
      "5687            0           NaN         NaN                 NaN   \n",
      "5688            0           1.0         NaN                 NaN   \n",
      "5689            0           NaN         NaN                 NaN   \n",
      "5691            3           2.0         NaN                 NaN   \n",
      "\n",
      "      ContentLicense  \n",
      "0       CC BY-SA 4.0  \n",
      "1       CC BY-SA 4.0  \n",
      "2       CC BY-SA 4.0  \n",
      "6       CC BY-SA 4.0  \n",
      "8       CC BY-SA 4.0  \n",
      "...              ...  \n",
      "5686    CC BY-SA 4.0  \n",
      "5687    CC BY-SA 4.0  \n",
      "5688    CC BY-SA 4.0  \n",
      "5689    CC BY-SA 4.0  \n",
      "5691    CC BY-SA 4.0  \n",
      "\n",
      "[2745 rows x 23 columns]\n",
      "2745\n",
      "OrderedDict([('serverless', 2745), ('amazon-web-services', 1045), ('aws-lambda', 920), ('serverless-framework', 559), ('node.js', 505), ('aws-serverless', 292), ('aws-api-gateway', 177), ('javascript', 156), ('azure', 155), ('python', 143), ('amazon-cloudformation', 125), ('azure-functions', 123), ('amazon-s3', 114), ('amazon-dynamodb', 113), ('lambda', 98), ('google-cloud-functions', 81), ('google-cloud-platform', 74), ('next.js', 71), ('typescript', 62), ('reactjs', 61), ('express', 61), ('serverless-architecture', 57), ('amazon-cognito', 52), ('vercel', 50), ('webpack', 48), ('yaml', 46), ('graphql', 42), ('serverless-offline', 41), ('docker', 39), ('c#', 35), ('npm', 33), ('java', 31), ('amazon-iam', 30), ('api', 30), ('openwhisk', 29), ('amazon-sqs', 29), ('mongodb', 28), ('firebase', 28), ('aws-sam', 28), ('netlify', 26), ('amazon-cloudfront', 24), ('google-cloud-run', 22), ('cloud', 22), ('amazon-aurora', 21), ('aws-appsync', 21), ('aws-step-functions', 21), ('python-3.x', 20), ('kubernetes', 20), ('microservices', 19), ('amazon-sns', 19), ('mysql', 19), ('go', 19), ('websocket', 18), ('angular', 18), ('nestjs', 18), ('json', 17), ('serverless-plugins', 17), ('amazon-cloudwatch', 17), ('sam', 16), ('aws-amplify', 16), ('postgresql', 16), ('.net-core', 16), ('cors', 15), ('aws-sam-cli', 15), ('azure-synapse', 15), ('deployment', 15), ('localstack', 15), ('rest', 14), ('cron', 14), ('typeorm', 14), ('aws-sdk', 14), ('ibm-cloud', 14), ('architecture', 14), ('php', 13), ('database', 13), ('boto3', 13), ('bref', 13), ('terraform', 12), ('faas', 12), ('security', 12), ('amazon-route53', 12), ('amazon-ses', 11), ('mongoose', 11), ('laravel', 11), ('.net', 11), ('amazon-ec2', 11), ('authentication', 11), ('dynamodb-queries', 11), ('devops', 10), ('gitlab', 10), ('spring-boot', 10), ('ibm-cloud-functions', 10), ('cloudflare-workers', 10), ('amazon-rds', 10), ('apollo-server', 10), ('environment-variables', 10), ('azure-durable-functions', 10), ('aws-cdk', 10), ('function', 10), ('nosql', 10), ('flask', 9), ('aws-lambda-layers', 9), ('amazon-ecs', 9), ('puppeteer', 9), ('amazon-vpc', 9), ('faunadb', 9), ('google-cloud-firestore', 9), ('openfaas', 9), ('apollo', 8), ('lambda-authorizer', 8), ('sequelize.js', 8), ('azure-cosmosdb', 8), ('signalr', 8), ('aws-aurora-serverless', 8), ('api-gateway', 8), ('http', 8), ('netlify-function', 8), ('aws-codebuild', 8), ('node-modules', 8), ('google-app-engine', 8), ('cloudflare', 8), ('aws-lambda-edge', 8), ('swagger', 7), ('authorization', 7), ('auth0', 7), ('angular-universal', 7), ('web', 7), ('aws-fargate', 7), ('twilio', 7), ('sql-server', 7), ('serverless-framework-offline', 7), ('powershell', 7), ('django', 7), ('zappa', 7), ('concurrency', 7), ('visual-studio-code', 7), ('containers', 7), ('azure-logic-apps', 6), ('server-side-rendering', 6), ('async-await', 6), ('jestjs', 6), ('backend', 6), ('azure-sql-database', 6), ('caching', 6), ('sql', 6), ('oauth', 6), ('aws-event-bridge', 6), ('webhooks', 6), ('dns', 6), ('git', 6), ('elasticsearch', 6), ('monorepo', 5), ('spring', 5), ('spring-cloud-function', 5), ('knative', 5), ('axios', 5), ('amazon-redshift', 5), ('webrtc', 5), ('aws-cli', 5), ('amazon-kinesis', 5), ('pip', 5), ('babeljs', 5), ('jamstack', 5), ('serverless-webpack-plugin', 5), ('server', 5), ('react-native', 5), ('macos', 5), ('local', 5), ('single-page-application', 5), ('jwt', 5), ('html', 5), ('jenkins', 5), ('serverless-application-model', 5), ('oauth-2.0', 5), ('aws-codepipeline', 5), ('aws-iot', 5), ('frameworks', 4), ('docker-compose', 4), ('es6-promise', 4), ('wsgi', 4), ('google-cloud-pubsub', 4), ('gitlab-ci', 4), ('swift', 4), ('google-cloud-sql', 4), ('multipartform-data', 4), ('request', 4), ('spring-cloud', 4), ('yarnpkg', 4), ('pdf', 4), ('claudiajs', 4), ('azure-devops', 4), ('asynchronous', 4), ('iot', 4), ('fetch', 4), ('aws-iam', 4), ('hasura', 4), ('nuxt.js', 4), ('ios', 4), ('httpresponse', 4), ('windows', 4), ('database-design', 4), ('amazon-cloudwatch-events', 4), ('ibm-cloud-code-engine', 4), ('keda', 4), ('scheduled-tasks', 4), ('aws-xray', 4), ('redis', 4), ('create-react-app', 4), ('google-vpc', 4), ('redirect', 4), ('azure-function-app', 4), ('aws-ssm', 4), ('dynamo-local', 4), ('promise', 4), ('cognito', 4), ('github-actions', 4), ('apache-kafka', 4), ('openapi', 3), ('file-upload', 3), ('load-testing', 3), ('slack-api', 3), ('unit-testing', 3), ('amazon-cloudwatchlogs', 3), ('lerna', 3), ('connection-pooling', 3), ('azure-keyvault', 3), ('google-cloud-storage', 3), ('amazon-athena', 3), ('asp.net-core', 3), ('routes', 3), ('dependency-injection', 3), ('claudia.js', 3), ('amazon-api-gateway', 3), ('triggers', 3), ('aws-cognito', 3), ('resources', 3), ('file', 3), ('vue.js', 3), ('dotenv', 3), ('laravel-vapor', 3), ('debugging', 3), ('continuous-deployment', 3), ('token', 3), ('azure-functions-runtime', 3), ('endpoint', 3), ('gcloud', 3), ('linux', 3), ('stripe-payments', 3), ('scala', 3), ('kotlin', 3), ('mongodb-atlas', 3), ('mocha.js', 3), ('post', 3), ('xmlhttprequest', 3), ('aws-codecommit', 3), ('chalice', 3), ('google-kubernetes-engine', 3), ('realm', 3), ('azure-eventgrid', 3), ('eslint', 3), ('amazon-elasticache', 3), ('csv', 3), ('aws-glue', 3), ('ruby', 3), ('orm', 3), ('google-cloud-dataflow', 3), ('maven', 3), ('github', 3), ('amazon-sagemaker', 3), ('aws-kms', 2), ('koa', 2), ('sinon', 2), ('cloud-foundry', 2), ('postman', 2), ('ubuntu-16.04', 2), ('npm-install', 2), ('alibaba-cloud', 2), ('azureservicebus', 2), ('azure-servicebus-queues', 2), ('node-postgres', 2), ('http-post', 2), ('ejs', 2), ('signalr-hub', 2), ('alexa', 2), ('alexa-skill', 2), ('nginx', 2), ('gateway', 2), ('requirements.txt', 2), ('opencv', 2), ('angular6', 2), ('yarn-workspaces', 2), ('symlink', 2), ('tensorflow', 2), ('google-drive-api', 2), ('automated-tests', 2), ('https', 2), ('chromeless', 2), ('python-2.7', 2), ('gatsby', 2), ('amazon-cognito-triggers', 2), ('packaging', 2), ('ffmpeg', 2), ('asp.net', 2), ('signalr-service', 2), ('pg', 2), ('config', 2), ('powershell-core', 2), ('nodes', 2), ('database-migration', 2), ('azure-functions-core-tools', 2), ('hosting', 2), ('swagger-ui', 2), ('mlops', 2), ('android', 2), ('azure-powershell', 2), ('kubernetes-helm', 2), ('amazon-dynamodb-streams', 2), ('readfile', 2), ('upload', 2), ('azure-web-app-service', 2), ('container-registry', 2), ('queue', 2), ('testing', 2), ('proxy', 2), ('tedious', 2), ('aws-toolkit', 2), ('messaging', 2), ('svg', 2), ('notifications', 2), ('infrastructure', 2), ('azure-aks', 2), ('knative-serving', 2), ('fastapi', 2), ('dependencies', 2), ('forms', 2), ('apple-m1', 2), ('documentation', 2), ('slim', 2), ('cold-start', 2), ('python-zappa', 2), ('staging', 2), ('amazon-timestream', 2), ('azure-active-directory', 2), ('vtl', 2), ('couchbase', 2), ('kubeless', 2), ('aws-sdk-nodejs', 2), ('ftp', 2), ('json.net', 2), ('bitbucket-pipelines', 2), ('session', 2), ('command-line', 2), ('svelte', 2), ('bcrypt', 2), ('tsconfig', 2), ('event-handling', 2), ('web-scraping', 2), ('google-chrome', 2), ('custom-domain', 2), ('ssl-certificate', 2), ('amazon-dynamodb-local', 2), ('angular8', 2), ('redux', 2), ('web-applications', 2), ('google-bigquery', 2), ('schema', 2), ('azure-monitoring', 2), ('sharp', 2), ('state-machine', 2), ('flutter', 2), ('azure-blob-storage', 2), ('publish-subscribe', 2), ('multi-tenant', 2), ('hibernate', 2), ('jpa', 2), ('webtask', 2), ('cloud-hosting', 2), ('http-proxy-middleware', 2), ('busboy', 2), ('circleci', 2), ('amazon-kinesis-firehose', 2), ('azure-data-lake', 2), ('layer', 2), ('response-headers', 2), ('fn', 2), ('serverless.com', 2), ('logging', 2), ('performance-testing', 2), ('airtable', 2), ('cost-management', 2), ('google-calendar-api', 2), ('error-handling', 2), ('serverless-framework-step-functions', 2), ('confluent-platform', 2), ('python-requests', 2), ('distributed', 2), ('api-key', 2), ('design-patterns', 2), ('ruby-on-rails', 2), ('jvm', 2), ('aws-http-api', 2), ('service', 2), ('firebase-authentication', 2), ('delta-lake', 2), ('google-cloud-kms', 1), ('ruby-2.5', 1), ('cron-task', 1), ('diego', 1), ('organization', 1), ('chown', 1), ('json-deserialization', 1), ('parse-platform', 1), ('mbaas', 1), ('alamofire', 1), ('pdo', 1), ('alexa-voice-service', 1), ('rbac', 1), ('azure-rbac', 1), ('encryption', 1), ('jwt-auth', 1), ('haskell', 1), ('servant', 1), ('ponyorm', 1), ('asp.net-core-2.1', 1), ('amazon-quicksight', 1), ('numpy', 1), ('google-pagespeed', 1), ('algolia', 1), ('hugo', 1), ('amazon-elb', 1), ('fs-extra', 1), ('vagrant', 1), ('lamar', 1), ('html-pdf', 1), ('ssm', 1), ('laravel-valet', 1), ('laravel-6', 1), ('database-trigger', 1), ('acceptance-testing', 1), ('text-to-speech', 1), ('apt', 1), ('amazon-simpledb', 1), ('apache', 1), ('scikit-learn', 1), ('newrelic', 1), ('rdbms', 1), ('laravel-facade', 1), ('google-cloud-datastore', 1), ('pillow', 1), ('sharepoint', 1), ('amazon-waf', 1), ('bitbucket', 1), ('amazon-policy', 1), ('prismic.io', 1), ('angularjs', 1), ('http-status-code-502', 1), ('http-delete', 1), ('asp.net-core-webapi', 1), ('pymongo', 1), ('action', 1), ('firebase-realtime-database', 1), ('firebase-admin', 1), ('openapi-generator', 1), ('internationalization', 1), ('custom-headers', 1), ('aws-java-sdk', 1), ('spring-webflux', 1), ('apim', 1), ('codenameone', 1), ('manual', 1), ('signaling', 1), ('google-cloud-load-balancer', 1), ('url-masking', 1), ('quota', 1), ('blob', 1), ('gif', 1), ('ubuntu', 1), ('monitoring', 1), ('sanity', 1), ('mobile', 1), ('discord', 1), ('spring-cloud-aws', 1), ('events', 1), ('chatbot', 1), ('cookies', 1), ('minikube', 1), ('twilio-taskrouter', 1), ('bluetooth', 1), ('keyboard', 1), ('mouse', 1), ('openstack', 1), ('botframework', 1), ('split-stacks', 1), ('filesize', 1), ('mocking', 1), ('bad-gateway', 1), ('http-headers', 1), ('azure-ad-b2c', 1), ('azure-api-management', 1), ('node.js-addon', 1), ('bad-request', 1), ('continuous-integration', 1), ('aws-mobilehub', 1), ('aws-elasticsearch', 1), ('load', 1), ('paytm', 1), ('perl', 1), ('telegram', 1), ('telegram-bot', 1), ('timestamp', 1), ('http-proxy', 1), ('digest-authentication', 1), ('virtualbox', 1), ('psycopg2', 1), ('grandstack', 1), ('aws-alb', 1), ('alexa-skills-kit', 1), ('unicode', 1), ('jdbc', 1), ('sqlite', 1), ('multithreading', 1), ('reactive-programming', 1), ('micronaut', 1), ('lti', 1), ('canvas', 1), ('okta', 1), ('hapijs', 1), ('hapi', 1), ('echo', 1), ('azure-bot-service', 1), ('sockets', 1), ('marketplace', 1), ('kata-containers', 1), ('launchdarkly', 1), ('middy', 1), ('objectmapper', 1), ('artillery', 1), ('google-anthos', 1), ('quarkus', 1), ('nextjs-dynamic-routing', 1), ('nextjs-rewrites', 1), ('sbt', 1), ('sbt-assembly', 1), ('docker-image', 1), ('google-container-registry', 1), ('serverless-bundle', 1), ('trace', 1), ('datadog', 1), ('dialogflow-es', 1), ('clouddevelopmentkit', 1), ('basic-authentication', 1), ('api-design', 1), ('data-science', 1), ('digital-ocean', 1), ('ip', 1), ('package.json', 1), ('concurrently', 1), ('app-engine-flexible', 1), ('pdb', 1), ('mobile-development', 1), ('service-accounts', 1), ('cloudbees', 1), ('event-loop', 1), ('package-lock.json', 1), ('dropwizard', 1), ('reverse-proxy', 1), ('traefik', 1), ('e2e-testing', 1), ('cypress', 1), ('azure-app-service-envrmnt', 1), ('bulkinsert', 1), ('botocore', 1), ('azure-storage', 1), ('virtual-machine', 1), ('amazon-elastic-beanstalk', 1), ('rxjs', 1), ('configuration', 1), ('dialogflow-es-fulfillment', 1), ('invoke', 1), ('batch-processing', 1), ('splunk', 1), ('repl.it', 1), ('rabbitmq', 1), ('azure-batch', 1), ('return-value', 1), ('prefect', 1), ('rollback', 1), ('access-denied', 1), ('aws-access-policy', 1), ('flask-babel', 1), ('exchangelib', 1), ('sapper', 1), ('plugins', 1), ('greengrass', 1), ('soap', 1), ('azure-resource-group', 1), ('pact', 1), ('sleep', 1), ('irc', 1), ('aws-secrets-manager', 1), ('python-packaging', 1), ('parcel', 1), ('google-sheets-api', 1), ('google-authentication', 1), ('apollo-client', 1), ('excel', 1), ('nest', 1), ('isolation', 1), ('stun', 1), ('ice', 1), ('fluent-ffmpeg', 1), ('vnet', 1), ('bash', 1), ('hadoop-yarn', 1), ('aws-rds-data-service', 1), ('ibm-watson', 1), ('trello', 1), ('architect', 1), ('formidable', 1), ('adal.js', 1), ('angularfire2', 1), ('dbmigrate', 1), ('asp.net-core-mvc-2.1', 1), ('federated-identity', 1), ('mqtt', 1), ('react-router', 1), ('service-worker', 1), ('nodejs-stream', 1), ('google-cloud-scheduler', 1), ('google-compute-engine', 1), ('pickle', 1), ('azure-cli', 1), ('azure-sql-managed-instance', 1), ('version', 1), ('schedule', 1), ('gnupg', 1), ('audio', 1), ('audio-processing', 1), ('asp.net-core-signalr', 1), ('signalr-client', 1), ('azure-application-insights', 1), ('socket.io', 1), ('subprocess', 1), ('firebase-cli', 1), ('gcloud-cli', 1), ('signature', 1), ('bucket', 1), ('code-sharing', 1), ('mapbox-gl', 1), ('terminal', 1), ('twilio-api', 1), ('qlikview', 1), ('qliksense', 1), ('simplify', 1), ('high-load', 1), ('calculator', 1), ('openid-connect', 1), ('runtime-error', 1), ('phantomjs', 1), ('pdfhtml', 1), ('nowjs-sockets', 1), ('ray', 1), ('postgis', 1), ('gdal', 1), ('geodjango', 1), ('dataflow', 1), ('azure-signalr', 1), ('peer', 1), ('actframework', 1), ('kubernetes-ingress', 1), ('blazor', 1), ('azure-static-website-hosting', 1), ('azure-container-instances', 1), ('typescript-eslint', 1), ('esp8266', 1), ('nlp', 1), ('spacy', 1), ('parameters', 1), ('datastore', 1), ('icecast', 1), ('critical-css', 1), ('hummus.js', 1), ('eclipse', 1), ('node-fetch', 1), ('ibm-cloud-storage', 1), ('jsonschema', 1), ('aws-cloud9', 1), ('awsdeploy', 1), ('swift3', 1), ('multipeer-connectivity', 1), ('kyma', 1), ('timezone', 1), ('maps', 1), ('graph', 1), ('instagram', 1), ('mongodb-realm', 1), ('apigee', 1), ('dockerfile', 1), ('synchronization', 1), ('xamarin', 1), ('memcached', 1), ('angular9', 1), ('python-3.6', 1), ('google-cloud-stackdriver', 1), ('aws-config', 1), ('cloud-platform', 1), ('static', 1), ('xstate', 1), ('ngrok', 1), ('watson-assistant', 1), ('infrastructure-as-code', 1), ('backup', 1), ('frontend', 1), ('sms', 1), ('network-programming', 1), ('broadcast', 1), ('imagemagick', 1), ('moviepy', 1), ('image-upload', 1), ('whitelist', 1), ('vogels', 1), ('amazon-data-pipeline', 1), ('aws-data-pipeline', 1), ('live', 1), ('aws-amplify-cli', 1), ('c++', 1), ('azure-purview', 1), ('momentjs', 1), ('graphql-subscriptions', 1), ('google-analytics-api', 1), ('bootstrap-4', 1), ('gunicorn', 1), ('alibaba-cloud-oss', 1), ('alibaba-cloud-function-compute', 1), ('csx', 1), ('p2p', 1), ('video', 1), ('video.js', 1), ('node-schedule', 1), ('input', 1), ('parsing', 1), ('es6-modules', 1), ('load-balancing', 1), ('azure-traffic-manager', 1), ('google-chrome-headless', 1), ('sentiment-analysis', 1), ('s3-bucket', 1), ('eventtrigger', 1), ('aws-amplify-sdk-js', 1), ('http-status-code-404', 1), ('velocity-template-language', 1), ('policy', 1), ('channel', 1), ('database-backups', 1), ('pandas', 1), ('visualization', 1), ('mappings', 1), ('pandoc', 1), ('cdn', 1), ('google-oauth', 1), ('passport.js', 1), ('jar', 1), ('curl', 1), ('opengl', 1), ('nvidia', 1), ('egl', 1), ('oauth.io', 1), ('prisma', 1), ('aws-sdk-js', 1), ('azure-files', 1), ('couchdb', 1), ('cloudant', 1), ('java-11', 1), ('handler', 1), ('typedi', 1), ('openssl', 1), ('task', 1), ('snowflake-cloud-data-platform', 1), ('autoscaling', 1), ('url-routing', 1), ('production-environment', 1), ('ecmascript-6', 1), ('keras', 1), ('deep-learning', 1), ('model', 1), ('locust', 1), ('gcp-load-balancer', 1), ('typegraphql', 1), ('npm-scripts', 1), ('ajax', 1), ('openweathermap', 1), ('wkhtmltopdf', 1), ('apache-camel', 1), ('integration', 1), ('ipaas', 1), ('heroku', 1), ('lua', 1), ('python-imaging-library', 1), ('exif', 1), ('bytestream', 1), ('google-workflows', 1), ('autodesk-forge', 1), ('python-sphinx', 1), ('restructuredtext', 1), ('docutils', 1), ('sql-server-2012', 1), ('database-administration', 1), ('single-sign-on', 1), ('onelogin', 1), ('google-cloud-billing', 1), ('wolkenkit', 1), ('push-notification', 1), ('firebase-cloud-messaging', 1), ('arrays', 1), ('jenkins-pipeline', 1), ('real-time', 1), ('mailgun', 1), ('facebook-graph-api', 1), ('node-debugger', 1), ('building-github-actions', 1), ('datastax', 1), ('slack', 1), ('storage', 1), ('offline-mode', 1), ('timeserieschart', 1), ('imagick', 1), ('dead-letter', 1), ('react-hooks', 1), ('firefox', 1), ('rate-limiting', 1), ('godaddy-api', 1), ('vitess', 1), ('fifo', 1), ('sendgrid', 1), ('user-management', 1), ('hashset', 1), ('zombie.js', 1), ('amazon-lex', 1), ('gnu-make', 1), ('android-source', 1), ('azure-cosmosdb-tables', 1), ('pre-signed-url', 1), ('two-factor-authentication', 1), ('compilation', 1), ('diagnostics', 1), ('regex', 1), ('binance', 1), ('full-text-search', 1), ('azure-deployment', 1), ('cpu', 1), ('asp.net-core-mvc', 1), ('cpu-usage', 1), ('distributed-computing', 1), ('openrowset', 1), ('graphql-playground', 1), ('boilerplate', 1), ('subscription', 1), ('graphcool', 1), ('alias', 1), ('browser', 1), ('paperclip', 1), ('feast', 1), ('graphql-js', 1), ('external-tables', 1), ('ssl', 1), ('duplicates', 1), ('machine-learning', 1), ('amazon-ecr', 1), ('mysql-python', 1), ('decorator', 1), ('reflect-metadata', 1), ('next-auth', 1), ('knex.js', 1), ('xml', 1), ('azure-static-web-app', 1), ('amazon-efs', 1), ('apache-flink', 1), ('keda-scaledjob', 1), ('selenium', 1), ('selenium-webdriver', 1), ('selenium-chromedriver', 1), ('angular-material', 1), ('static-site', 1), ('scalability', 1), ('templates', 1), ('output', 1), ('amazon-cognito-facebook', 1), ('gensim', 1), ('node-cron', 1), ('locking', 1), ('django-models', 1), ('graphql-tools', 1), ('etl', 1), ('httprequest', 1), ('amazon-pay', 1), ('scheduling', 1), ('koa2', 1), ('go-modules', 1), ('updates', 1), ('code-coverage', 1), ('mocha-webpack', 1), ('expo', 1), ('amazon-textract', 1), ('containerd', 1), ('azure-http-trigger', 1), ('variables', 1), ('shared-libraries', 1), ('asp.net-web-api', 1), ('polling', 1), ('mongoose-schema', 1), ('solr', 1), ('sitecore', 1), ('azure-appservice', 1), ('stateless', 1), ('aws-documentdb', 1), ('amazon-dynamodb-index', 1), ('optimization', 1), ('windows-services', 1), ('screenshot', 1), ('port', 1), ('mern', 1), ('aws-userpools', 1), ('apache-beam', 1), ('cloud9', 1), ('aws-codestar', 1), ('sveltekit', 1), ('activecampaign', 1), ('preflight', 1), ('graalvm', 1), ('mlab', 1), ('scaling', 1), ('system-design', 1), ('python-3.9', 1), ('sls', 1), ('httpapi', 1), ('statistics', 1), ('node-oracledb', 1), ('node-oracle', 1), ('image', 1), ('amazon-eks', 1), ('kubernetes-pod', 1), ('databricks', 1), ('azure-data-studio', 1), ('server-sent-events', 1), ('mapbox', 1), ('graphql-schema', 1), ('aws-cloudformation-custom-resource', 1), ('cache-control', 1), ('service-discovery', 1), ('nodemailer', 1), ('ts-jest', 1), ('freshdesk', 1), ('command-line-interface', 1), ('skia', 1), ('domain-mapping', 1), ('knative-eventing', 1), ('makefile', 1), ('amazon-redshift-serverless', 1), ('discord.js', 1), ('autodesk', 1), ('forge', 1), ('child-process', 1), ('serverless-stack', 1), ('import', 1), ('youtube-api', 1), ('video-streaming', 1), ('firebase-hosting', 1), ('restful-url', 1), ('dynamoose', 1), ('visual-studio', 1), ('maven-archetype', 1), ('horizontal-pod-autoscaling', 1), ('appkit', 1), ('authorization-header', 1), ('chrome-aws-lambda', 1), ('azure-queues', 1), ('middleware', 1)])\n"
     ]
    }
   ],
   "source": [
    "# Getting all posts with tag serverless\n",
    "What_we_want = df[df['Tags'].str.contains(\"<serverless>\")]\n",
    "print(What_we_want)\n",
    "\n",
    "# Finding the most common keywords for %serverless%\n",
    "\n",
    "tags = What_we_want[\"Tags\"]\n",
    "print(len(tags))\n",
    "\n",
    "tags = tags.str.replace(r'<', '')\n",
    "tags = tags.str.replace(r'>', ' ')\n",
    "tags_list = tags.tolist()\n",
    "\n",
    "list_of_tags = []\n",
    "for x in range(len(tags_list)):\n",
    "    list_of_tags.extend(tags_list[x].split())\n",
    "\n",
    "\n",
    "d = {i:list_of_tags.count(i) for i in list_of_tags}\n",
    "print(OrderedDict(sorted(d.items(), key = itemgetter(1), reverse = True)))\n",
    "\n"
   ]
  },
  {
   "cell_type": "code",
   "execution_count": null,
   "id": "2079f516",
   "metadata": {},
   "outputs": [],
   "source": []
  },
  {
   "cell_type": "code",
   "execution_count": 26,
   "id": "8a1dd116",
   "metadata": {},
   "outputs": [
    {
     "name": "stdout",
     "output_type": "stream",
     "text": [
      "73\n",
      "2\n",
      "3\n",
      "----pay-----\n",
      " \n",
      "160\n",
      "6\n",
      "12\n",
      "----invoice-----\n",
      " \n",
      "6\n",
      "0\n",
      "1\n",
      "----pricey-----\n",
      " \n",
      "0\n",
      "0\n",
      "0\n",
      "----cheap-----\n",
      " \n",
      "27\n",
      "0\n",
      "2\n",
      "----charge-----\n",
      " \n",
      "22\n",
      "0\n",
      "0\n",
      "----fee-----\n",
      " \n",
      "120\n",
      "0\n",
      "6\n",
      "----expensive-----\n",
      " \n",
      "20\n",
      "0\n",
      "0\n"
     ]
    }
   ],
   "source": [
    "print(len(df[df['Body'].str.contains(\"cost\")]))\n",
    "print(len(df[df['Tags'].str.contains(\"cost\")]))\n",
    "print(len(df[df['Title'].str.contains(\"cost\")]))\n",
    "print(\"----pay-----\")\n",
    "print(\" \")\n",
    "print(len(df[df['Body'].str.contains(\"pay\")]))\n",
    "print(len(df[df['Tags'].str.contains(\"pay\")])) \n",
    "print(len(df[df['Title'].str.contains(\"pay\")])) \n",
    "print(\"----invoice-----\")\n",
    "print(\" \")\n",
    "print(len(df[df['Body'].str.contains(\"invoice\")])) \n",
    "print(len(df[df['Tags'].str.contains(\"invoice\")])) \n",
    "print(len(df[df['Title'].str.contains(\"invoice\")])) \n",
    "print(\"----pricey-----\")\n",
    "print(\" \")\n",
    "print(len(df[df['Body'].str.contains(\"pricey\")])) \n",
    "print(len(df[df['Tags'].str.contains(\"pricey\")])) \n",
    "print(len(df[df['Title'].str.contains(\"pricey\")])) \n",
    "print(\"----cheap-----\")\n",
    "print(\" \")\n",
    "print(len(df[df['Body'].str.contains(\"cheap\")])) \n",
    "print(len(df[df['Tags'].str.contains(\"cheap\")])) \n",
    "print(len(df[df['Title'].str.contains(\"cheap\")])) \n",
    "print(\"----charge-----\")\n",
    "print(\" \")\n",
    "print(len(df[df['Body'].str.contains(\"charge\")])) \n",
    "print(len(df[df['Tags'].str.contains(\"charge\")])) \n",
    "print(len(df[df['Title'].str.contains(\"charge\")]))\n",
    "print(\"----fee-----\")\n",
    "print(\" \")\n",
    "print(len(df[df['Body'].str.contains(\"fee\")])) \n",
    "print(len(df[df['Tags'].str.contains(\"fee\")])) \n",
    "print(len(df[df['Title'].str.contains(\"fee\")]))\n",
    "print(\"----expensive-----\")\n",
    "print(\" \")\n",
    "print(len(df[df['Body'].str.contains(\"expensive\")])) \n",
    "print(len(df[df['Tags'].str.contains(\"expensive\")])) \n",
    "print(len(df[df['Title'].str.contains(\"expensive\")])) "
   ]
  },
  {
   "cell_type": "code",
   "execution_count": 24,
   "id": "35e228f8",
   "metadata": {},
   "outputs": [
    {
     "name": "stdout",
     "output_type": "stream",
     "text": [
      "25\n",
      "0\n",
      "2\n"
     ]
    }
   ],
   "source": [
    "print(len(df[df['Body'].str.contains(\"price\")]))\n",
    "print(len(df[df['Tags'].str.contains(\"price\")]))\n",
    "print(len(df[df['Title'].str.contains(\"price\")]))"
   ]
  },
  {
   "cell_type": "code",
   "execution_count": 25,
   "id": "2da31100",
   "metadata": {},
   "outputs": [
    {
     "name": "stdout",
     "output_type": "stream",
     "text": [
      "18\n",
      "0\n",
      "1\n"
     ]
    }
   ],
   "source": [
    "print(len(df[df['Body'].str.contains(\"pricing\")]))\n",
    "print(len(df[df['Tags'].str.contains(\"pricing\")]))\n",
    "print(len(df[df['Title'].str.contains(\"pricing\")]))"
   ]
  },
  {
   "cell_type": "code",
   "execution_count": 33,
   "id": "84d87aaa",
   "metadata": {},
   "outputs": [],
   "source": [
    "body_cost = df[df['Body'].str.contains(\"cost\")]\n",
    "body_cost.head(3)\n",
    "\n",
    "body_tags = df[df['Tags'].str.contains(\"cost\")]\n",
    "#body_tags.head(3)\n"
   ]
  },
  {
   "cell_type": "code",
   "execution_count": 34,
   "id": "b674dbeb",
   "metadata": {},
   "outputs": [
    {
     "name": "stdout",
     "output_type": "stream",
     "text": [
      "73\n"
     ]
    }
   ],
   "source": [
    "print(len(body_cost))"
   ]
  },
  {
   "cell_type": "code",
   "execution_count": 35,
   "id": "2fe34772",
   "metadata": {},
   "outputs": [
    {
     "ename": "NameError",
     "evalue": "name 'temp1' is not defined",
     "output_type": "error",
     "traceback": [
      "\u001b[1;31m---------------------------------------------------------------------------\u001b[0m",
      "\u001b[1;31mNameError\u001b[0m                                 Traceback (most recent call last)",
      "\u001b[1;32m~\\AppData\\Local\\Temp/ipykernel_21488/973659632.py\u001b[0m in \u001b[0;36m<module>\u001b[1;34m\u001b[0m\n\u001b[0;32m      1\u001b[0m \u001b[1;31m#temp1 = df[df['Body'].str.contains(\"cost\")]\u001b[0m\u001b[1;33m\u001b[0m\u001b[1;33m\u001b[0m\u001b[1;33m\u001b[0m\u001b[0m\n\u001b[1;32m----> 2\u001b[1;33m \u001b[0mprint\u001b[0m\u001b[1;33m(\u001b[0m\u001b[0mlen\u001b[0m\u001b[1;33m(\u001b[0m\u001b[0mtemp1\u001b[0m\u001b[1;33m)\u001b[0m\u001b[1;33m)\u001b[0m\u001b[1;33m\u001b[0m\u001b[1;33m\u001b[0m\u001b[0m\n\u001b[0m\u001b[0;32m      3\u001b[0m \u001b[1;31m#temp2 = df[df['Tags'].str.contains(\"cost\")]\u001b[0m\u001b[1;33m\u001b[0m\u001b[1;33m\u001b[0m\u001b[1;33m\u001b[0m\u001b[0m\n\u001b[0;32m      4\u001b[0m \u001b[1;31m#merged = temp1.merge(temp2, on='Post Link', how='outer')\u001b[0m\u001b[1;33m\u001b[0m\u001b[1;33m\u001b[0m\u001b[1;33m\u001b[0m\u001b[0m\n\u001b[0;32m      5\u001b[0m \u001b[1;33m\u001b[0m\u001b[0m\n",
      "\u001b[1;31mNameError\u001b[0m: name 'temp1' is not defined"
     ]
    }
   ],
   "source": [
    "\n",
    "#temp1 = df[df['Body'].str.contains(\"cost\")]\n",
    "print(len(temp1))\n",
    "#temp2 = df[df['Tags'].str.contains(\"cost\")]\n",
    "#merged = temp1.merge(temp2, on='Post Link', how='outer')\n",
    "\n",
    "#temp2 = df[df['Title'].str.contains(\"cost\")]\n",
    "#merged2 = merged.merge(temp2, on='Post Link', how='outer')\n",
    "\n",
    "#temp2 = df[df['Body'].str.contains(\"price\")]\n",
    "#merged3 = merged2.merge(temp2, on='Post Link', how='outer')\n",
    "\n",
    "#temp2 = df[df['Tags'].str.contains(\"price\")]\n",
    "#merged4 = merged3.merge(temp2, on='Post Link', how='outer')\n",
    "\n",
    "#temp2 = df[df['Title'].str.contains(\"price\")]\n",
    "#merged5 = merged4.merge(temp2, on='Post Link', how='outer')\n",
    "\n",
    "#temp2 = df[df['Body'].str.contains(\"pricing\")]\n",
    "#merged6 = merged5.merge(temp2, on='Post Link', how='outer')\n",
    "\n",
    "#temp2 = df[df['Tags'].str.contains(\"pricing\")]\n",
    "#merged7 = merged6.merge(temp2, on='Post Link', how='outer')\n",
    "\n",
    "#temp2 = df[df['Title'].str.contains(\"pricing\")]\n",
    "#merged8 = merged7.merge(temp2, on='Post Link', how='outer')\n",
    "\n",
    "#temp2 = df[df['Body'].str.contains(\"pay\")]\n",
    "#merged9 = merged8.merge(temp2, on='Post Link', how='outer')\n",
    "\n",
    "#temp2 = df[df['Tags'].str.contains(\"pay\")]\n",
    "#merged10 = merged9.merge(temp2, on='Post Link', how='outer')\n",
    "\n",
    "#temp2 = df[df['Title'].str.contains(\"pay\")]\n",
    "#merged11 = merged10.merge(temp2, on='Post Link', how='outer')\n",
    "\n",
    "temp1 = df[df['Body'].str.contains(\"fee\")]\n",
    "\n",
    "temp2 = df[df['Tags'].str.contains(\"fee\")]\n",
    "merged10 = temp1.merge(temp2, on='Post Link', how='outer')\n",
    "\n",
    "temp2 = df[df['Title'].str.contains(\"fee\")]\n",
    "merged11 = merged10.merge(temp2, on='Post Link', how='outer')\n",
    "\n",
    "\n",
    "\n",
    "print(len(merged11))\n",
    "merged12 = merged11.drop_duplicates(subset=['Post Link'])\n",
    "print(len(merged12))\n"
   ]
  },
  {
   "cell_type": "code",
   "execution_count": 37,
   "id": "b55bc987",
   "metadata": {},
   "outputs": [
    {
     "ename": "NameError",
     "evalue": "name 'merged12' is not defined",
     "output_type": "error",
     "traceback": [
      "\u001b[1;31m---------------------------------------------------------------------------\u001b[0m",
      "\u001b[1;31mNameError\u001b[0m                                 Traceback (most recent call last)",
      "\u001b[1;32m~\\AppData\\Local\\Temp/ipykernel_21488/1126731063.py\u001b[0m in \u001b[0;36m<module>\u001b[1;34m\u001b[0m\n\u001b[1;32m----> 1\u001b[1;33m \u001b[0mexport\u001b[0m \u001b[1;33m=\u001b[0m \u001b[0mmerged12\u001b[0m\u001b[1;33m[\u001b[0m\u001b[1;34m\"Post Link\"\u001b[0m\u001b[1;33m]\u001b[0m\u001b[1;33m\u001b[0m\u001b[1;33m\u001b[0m\u001b[0m\n\u001b[0m\u001b[0;32m      2\u001b[0m \u001b[0mprint\u001b[0m\u001b[1;33m(\u001b[0m\u001b[0mexport\u001b[0m\u001b[1;33m.\u001b[0m\u001b[0mhead\u001b[0m\u001b[1;33m(\u001b[0m\u001b[1;33m)\u001b[0m\u001b[1;33m)\u001b[0m\u001b[1;33m\u001b[0m\u001b[1;33m\u001b[0m\u001b[0m\n\u001b[0;32m      3\u001b[0m \u001b[0mexport\u001b[0m \u001b[1;33m=\u001b[0m \u001b[0mexport\u001b[0m\u001b[1;33m.\u001b[0m\u001b[0msample\u001b[0m\u001b[1;33m(\u001b[0m\u001b[0mfrac\u001b[0m\u001b[1;33m=\u001b[0m\u001b[1;36m1\u001b[0m\u001b[1;33m)\u001b[0m\u001b[1;33m.\u001b[0m\u001b[0mreset_index\u001b[0m\u001b[1;33m(\u001b[0m\u001b[0mdrop\u001b[0m\u001b[1;33m=\u001b[0m\u001b[1;32mTrue\u001b[0m\u001b[1;33m)\u001b[0m\u001b[1;33m\u001b[0m\u001b[1;33m\u001b[0m\u001b[0m\n\u001b[0;32m      4\u001b[0m \u001b[0mexport\u001b[0m \u001b[1;33m=\u001b[0m \u001b[0mexport\u001b[0m\u001b[1;33m.\u001b[0m\u001b[0miloc\u001b[0m\u001b[1;33m[\u001b[0m\u001b[1;33m:\u001b[0m\u001b[1;36m105\u001b[0m\u001b[1;33m,\u001b[0m\u001b[1;33m]\u001b[0m\u001b[1;33m\u001b[0m\u001b[1;33m\u001b[0m\u001b[0m\n\u001b[0;32m      5\u001b[0m \u001b[0mprint\u001b[0m\u001b[1;33m(\u001b[0m\u001b[0mexport\u001b[0m\u001b[1;33m.\u001b[0m\u001b[0mshape\u001b[0m\u001b[1;33m)\u001b[0m\u001b[1;33m\u001b[0m\u001b[1;33m\u001b[0m\u001b[0m\n",
      "\u001b[1;31mNameError\u001b[0m: name 'merged12' is not defined"
     ]
    }
   ],
   "source": [
    "export = merged12[\"Post Link\"]\n",
    "print(export.head())\n",
    "export = export.sample(frac=1).reset_index(drop=True)\n",
    "export = export.iloc[:105,]\n",
    "print(export.shape)\n",
    "print(export.head())\n"
   ]
  },
  {
   "cell_type": "code",
   "execution_count": 17,
   "id": "6dfbecfa",
   "metadata": {},
   "outputs": [],
   "source": [
    "#export.to_csv(r'../exportFee.csv', sep= \",\", index = False)"
   ]
  },
  {
   "cell_type": "code",
   "execution_count": 36,
   "id": "65964e20",
   "metadata": {},
   "outputs": [
    {
     "name": "stdout",
     "output_type": "stream",
     "text": [
      "160\n",
      "6\n",
      "12\n"
     ]
    }
   ],
   "source": []
  },
  {
   "cell_type": "code",
   "execution_count": null,
   "id": "15b10434",
   "metadata": {},
   "outputs": [],
   "source": []
  },
  {
   "cell_type": "code",
   "execution_count": null,
   "id": "39993fd8",
   "metadata": {},
   "outputs": [],
   "source": []
  },
  {
   "cell_type": "code",
   "execution_count": null,
   "id": "9ac0d66b",
   "metadata": {},
   "outputs": [],
   "source": []
  },
  {
   "cell_type": "code",
   "execution_count": null,
   "id": "a998e3ba",
   "metadata": {},
   "outputs": [],
   "source": []
  },
  {
   "cell_type": "code",
   "execution_count": null,
   "id": "61b5cfda",
   "metadata": {},
   "outputs": [],
   "source": []
  },
  {
   "cell_type": "code",
   "execution_count": null,
   "id": "65124c19",
   "metadata": {},
   "outputs": [],
   "source": []
  }
 ],
 "metadata": {
  "kernelspec": {
   "display_name": "Python 3 (ipykernel)",
   "language": "python",
   "name": "python3"
  },
  "language_info": {
   "codemirror_mode": {
    "name": "ipython",
    "version": 3
   },
   "file_extension": ".py",
   "mimetype": "text/x-python",
   "name": "python",
   "nbconvert_exporter": "python",
   "pygments_lexer": "ipython3",
   "version": "3.8.12"
  }
 },
 "nbformat": 4,
 "nbformat_minor": 5
}
