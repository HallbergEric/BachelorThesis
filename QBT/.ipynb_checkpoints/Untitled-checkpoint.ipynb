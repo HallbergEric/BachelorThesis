{
 "cells": [
  {
   "cell_type": "code",
   "execution_count": 10,
   "id": "68b9db41",
   "metadata": {},
   "outputs": [],
   "source": [
    "# import\n",
    "import pandas as pd"
   ]
  },
  {
   "cell_type": "code",
   "execution_count": 11,
   "id": "c302a3cf",
   "metadata": {},
   "outputs": [
    {
     "name": "stdout",
     "output_type": "stream",
     "text": [
      "(26606, 24)\n"
     ]
    },
    {
     "ename": "OptionError",
     "evalue": "\"No such keys(s): 'display.height'\"",
     "output_type": "error",
     "traceback": [
      "\u001b[1;31m---------------------------------------------------------------------------\u001b[0m",
      "\u001b[1;31mOptionError\u001b[0m                               Traceback (most recent call last)",
      "\u001b[1;32m~\\AppData\\Local\\Temp/ipykernel_24992/336935289.py\u001b[0m in \u001b[0;36m<module>\u001b[1;34m\u001b[0m\n\u001b[0;32m      1\u001b[0m \u001b[0mdf\u001b[0m \u001b[1;33m=\u001b[0m \u001b[0mpd\u001b[0m\u001b[1;33m.\u001b[0m\u001b[0mread_csv\u001b[0m\u001b[1;33m(\u001b[0m\u001b[1;34mr'../QBT/xmlfile.csv'\u001b[0m\u001b[1;33m,\u001b[0m \u001b[0msep\u001b[0m\u001b[1;33m=\u001b[0m\u001b[1;34m','\u001b[0m\u001b[1;33m)\u001b[0m\u001b[1;33m\u001b[0m\u001b[1;33m\u001b[0m\u001b[0m\n\u001b[0;32m      2\u001b[0m \u001b[0mprint\u001b[0m\u001b[1;33m(\u001b[0m\u001b[0mdf\u001b[0m\u001b[1;33m.\u001b[0m\u001b[0mshape\u001b[0m\u001b[1;33m)\u001b[0m\u001b[1;33m\u001b[0m\u001b[1;33m\u001b[0m\u001b[0m\n\u001b[1;32m----> 3\u001b[1;33m \u001b[0mpd\u001b[0m\u001b[1;33m.\u001b[0m\u001b[0mset_option\u001b[0m\u001b[1;33m(\u001b[0m\u001b[1;34m'display.height'\u001b[0m\u001b[1;33m,\u001b[0m \u001b[1;36m1000\u001b[0m\u001b[1;33m)\u001b[0m\u001b[1;33m\u001b[0m\u001b[1;33m\u001b[0m\u001b[0m\n\u001b[0m\u001b[0;32m      4\u001b[0m \u001b[0mpd\u001b[0m\u001b[1;33m.\u001b[0m\u001b[0mset_option\u001b[0m\u001b[1;33m(\u001b[0m\u001b[1;34m'display.max_rows'\u001b[0m\u001b[1;33m,\u001b[0m \u001b[1;36m500\u001b[0m\u001b[1;33m)\u001b[0m\u001b[1;33m\u001b[0m\u001b[1;33m\u001b[0m\u001b[0m\n\u001b[0;32m      5\u001b[0m \u001b[0mpd\u001b[0m\u001b[1;33m.\u001b[0m\u001b[0mset_option\u001b[0m\u001b[1;33m(\u001b[0m\u001b[1;34m'display.max_columns'\u001b[0m\u001b[1;33m,\u001b[0m \u001b[1;36m500\u001b[0m\u001b[1;33m)\u001b[0m\u001b[1;33m\u001b[0m\u001b[1;33m\u001b[0m\u001b[0m\n",
      "\u001b[1;32m~\\.conda\\envs\\AIenv\\lib\\site-packages\\pandas\\_config\\config.py\u001b[0m in \u001b[0;36m__call__\u001b[1;34m(self, *args, **kwds)\u001b[0m\n\u001b[0;32m    254\u001b[0m \u001b[1;33m\u001b[0m\u001b[0m\n\u001b[0;32m    255\u001b[0m     \u001b[1;32mdef\u001b[0m \u001b[0m__call__\u001b[0m\u001b[1;33m(\u001b[0m\u001b[0mself\u001b[0m\u001b[1;33m,\u001b[0m \u001b[1;33m*\u001b[0m\u001b[0margs\u001b[0m\u001b[1;33m,\u001b[0m \u001b[1;33m**\u001b[0m\u001b[0mkwds\u001b[0m\u001b[1;33m)\u001b[0m\u001b[1;33m:\u001b[0m\u001b[1;33m\u001b[0m\u001b[1;33m\u001b[0m\u001b[0m\n\u001b[1;32m--> 256\u001b[1;33m         \u001b[1;32mreturn\u001b[0m \u001b[0mself\u001b[0m\u001b[1;33m.\u001b[0m\u001b[0m__func__\u001b[0m\u001b[1;33m(\u001b[0m\u001b[1;33m*\u001b[0m\u001b[0margs\u001b[0m\u001b[1;33m,\u001b[0m \u001b[1;33m**\u001b[0m\u001b[0mkwds\u001b[0m\u001b[1;33m)\u001b[0m\u001b[1;33m\u001b[0m\u001b[1;33m\u001b[0m\u001b[0m\n\u001b[0m\u001b[0;32m    257\u001b[0m \u001b[1;33m\u001b[0m\u001b[0m\n\u001b[0;32m    258\u001b[0m     \u001b[1;33m@\u001b[0m\u001b[0mproperty\u001b[0m\u001b[1;33m\u001b[0m\u001b[1;33m\u001b[0m\u001b[0m\n",
      "\u001b[1;32m~\\.conda\\envs\\AIenv\\lib\\site-packages\\pandas\\_config\\config.py\u001b[0m in \u001b[0;36m_set_option\u001b[1;34m(*args, **kwargs)\u001b[0m\n\u001b[0;32m    147\u001b[0m \u001b[1;33m\u001b[0m\u001b[0m\n\u001b[0;32m    148\u001b[0m     \u001b[1;32mfor\u001b[0m \u001b[0mk\u001b[0m\u001b[1;33m,\u001b[0m \u001b[0mv\u001b[0m \u001b[1;32min\u001b[0m \u001b[0mzip\u001b[0m\u001b[1;33m(\u001b[0m\u001b[0margs\u001b[0m\u001b[1;33m[\u001b[0m\u001b[1;33m:\u001b[0m\u001b[1;33m:\u001b[0m\u001b[1;36m2\u001b[0m\u001b[1;33m]\u001b[0m\u001b[1;33m,\u001b[0m \u001b[0margs\u001b[0m\u001b[1;33m[\u001b[0m\u001b[1;36m1\u001b[0m\u001b[1;33m:\u001b[0m\u001b[1;33m:\u001b[0m\u001b[1;36m2\u001b[0m\u001b[1;33m]\u001b[0m\u001b[1;33m)\u001b[0m\u001b[1;33m:\u001b[0m\u001b[1;33m\u001b[0m\u001b[1;33m\u001b[0m\u001b[0m\n\u001b[1;32m--> 149\u001b[1;33m         \u001b[0mkey\u001b[0m \u001b[1;33m=\u001b[0m \u001b[0m_get_single_key\u001b[0m\u001b[1;33m(\u001b[0m\u001b[0mk\u001b[0m\u001b[1;33m,\u001b[0m \u001b[0msilent\u001b[0m\u001b[1;33m)\u001b[0m\u001b[1;33m\u001b[0m\u001b[1;33m\u001b[0m\u001b[0m\n\u001b[0m\u001b[0;32m    150\u001b[0m \u001b[1;33m\u001b[0m\u001b[0m\n\u001b[0;32m    151\u001b[0m         \u001b[0mo\u001b[0m \u001b[1;33m=\u001b[0m \u001b[0m_get_registered_option\u001b[0m\u001b[1;33m(\u001b[0m\u001b[0mkey\u001b[0m\u001b[1;33m)\u001b[0m\u001b[1;33m\u001b[0m\u001b[1;33m\u001b[0m\u001b[0m\n",
      "\u001b[1;32m~\\.conda\\envs\\AIenv\\lib\\site-packages\\pandas\\_config\\config.py\u001b[0m in \u001b[0;36m_get_single_key\u001b[1;34m(pat, silent)\u001b[0m\n\u001b[0;32m    112\u001b[0m         \u001b[1;32mif\u001b[0m \u001b[1;32mnot\u001b[0m \u001b[0msilent\u001b[0m\u001b[1;33m:\u001b[0m\u001b[1;33m\u001b[0m\u001b[1;33m\u001b[0m\u001b[0m\n\u001b[0;32m    113\u001b[0m             \u001b[0m_warn_if_deprecated\u001b[0m\u001b[1;33m(\u001b[0m\u001b[0mpat\u001b[0m\u001b[1;33m)\u001b[0m\u001b[1;33m\u001b[0m\u001b[1;33m\u001b[0m\u001b[0m\n\u001b[1;32m--> 114\u001b[1;33m         \u001b[1;32mraise\u001b[0m \u001b[0mOptionError\u001b[0m\u001b[1;33m(\u001b[0m\u001b[1;34mf\"No such keys(s): {repr(pat)}\"\u001b[0m\u001b[1;33m)\u001b[0m\u001b[1;33m\u001b[0m\u001b[1;33m\u001b[0m\u001b[0m\n\u001b[0m\u001b[0;32m    115\u001b[0m     \u001b[1;32mif\u001b[0m \u001b[0mlen\u001b[0m\u001b[1;33m(\u001b[0m\u001b[0mkeys\u001b[0m\u001b[1;33m)\u001b[0m \u001b[1;33m>\u001b[0m \u001b[1;36m1\u001b[0m\u001b[1;33m:\u001b[0m\u001b[1;33m\u001b[0m\u001b[1;33m\u001b[0m\u001b[0m\n\u001b[0;32m    116\u001b[0m         \u001b[1;32mraise\u001b[0m \u001b[0mOptionError\u001b[0m\u001b[1;33m(\u001b[0m\u001b[1;34m\"Pattern matched multiple keys\"\u001b[0m\u001b[1;33m)\u001b[0m\u001b[1;33m\u001b[0m\u001b[1;33m\u001b[0m\u001b[0m\n",
      "\u001b[1;31mOptionError\u001b[0m: \"No such keys(s): 'display.height'\""
     ]
    }
   ],
   "source": [
    "df = pd.read_csv(r'../QBT/xmlfile.csv', sep=',')\n",
    "print(df.shape)\n",
    "pd.set_option('display.height', 1000)\n",
    "pd.set_option('display.max_rows', 500)\n",
    "pd.set_option('display.max_columns', 500)\n",
    "pd.set_option('display.width', 1000)"
   ]
  },
  {
   "cell_type": "code",
   "execution_count": null,
   "id": "180d6798",
   "metadata": {},
   "outputs": [],
   "source": [
    "df.head(50)\n",
    "\n"
   ]
  },
  {
   "cell_type": "code",
   "execution_count": 12,
   "id": "bdb5a4a8",
   "metadata": {},
   "outputs": [
    {
     "name": "stdout",
     "output_type": "stream",
     "text": [
      "1    <p>I am looking for the best approach for generating images of text on the server side (preferably Node.js).  It will need to accommodate things like paging (so generating multiple images of text for one text input if it is too long to fit on one page).  I am looking for something that is fairly precise and allows for a good deal of type configuration.</p>\\n\\n<p>I have looked at a few options:</p>\\n\\n<ol>\\n<li><p>Use Canvas.  This approach would work for most of the use cases.  I could use a text engine like textjs for the layout.  However, this is somewhat limiting as Canvas doesn't have specific text metrics (for things like text height used for exact positioning).  This could make paging difficult.</p></li>\\n<li><p>Use normal HTML with something like PhantomJS to generate and them capture an image of the text.  While this approach will work for some use cases, it makes it hard to handle things like paging.</p></li>\\n<li><p>Use some other text engine.  I've looked around and found some options - but it would need to be something that I could call from Nodejs (as I'll likely use this on AWS Lambda).</p></li>\\n</ol>\\n\\n<p>What would you recommend?</p>\\n\n",
      "Name: Body, dtype: object\n"
     ]
    },
    {
     "name": "stderr",
     "output_type": "stream",
     "text": [
      "C:\\Users\\Eric\\AppData\\Local\\Temp/ipykernel_24992/1517304645.py:1: FutureWarning: Passing a negative integer is deprecated in version 1.0 and will not be supported in future version. Instead, use None to not limit the column width.\n",
      "  pd.set_option('display.max_colwidth', -1)\n"
     ]
    }
   ],
   "source": [
    "pd.set_option('display.max_colwidth', -1)\n",
    "print(df.iloc[1:2][\"Body\"])"
   ]
  },
  {
   "cell_type": "code",
   "execution_count": 13,
   "id": "8a1dd116",
   "metadata": {},
   "outputs": [
    {
     "name": "stdout",
     "output_type": "stream",
     "text": [
      "----pay-----\n",
      " \n",
      "1120\n",
      "38\n",
      "86\n",
      "----invoice-----\n",
      " \n",
      "26\n",
      "0\n",
      "2\n",
      "----pricey-----\n",
      " \n",
      "1\n",
      "0\n",
      "0\n",
      "----cheap-----\n",
      " \n",
      "72\n",
      "0\n",
      "3\n"
     ]
    }
   ],
   "source": [
    "#print(len(df[df['Body'].str.contains(\"cost\")]))\n",
    "#print(len(df[df['Tags'].str.contains(\"cost\")]))\n",
    "#print(len(df[df['Title'].str.contains(\"cost\")]))\n",
    "print(\"----pay-----\")\n",
    "print(\" \")\n",
    "print(len(df[df['Body'].str.contains(\"pay\")]))\n",
    "print(len(df[df['Tags'].str.contains(\"pay\")])) \n",
    "print(len(df[df['Title'].str.contains(\"pay\")])) \n",
    "print(\"----invoice-----\")\n",
    "print(\" \")\n",
    "print(len(df[df['Body'].str.contains(\"invoice\")])) \n",
    "print(len(df[df['Tags'].str.contains(\"invoice\")])) \n",
    "print(len(df[df['Title'].str.contains(\"invoice\")])) \n",
    "print(\"----pricey-----\")\n",
    "print(\" \")\n",
    "print(len(df[df['Body'].str.contains(\"pricey\")])) \n",
    "print(len(df[df['Tags'].str.contains(\"pricey\")])) \n",
    "print(len(df[df['Title'].str.contains(\"pricey\")])) \n",
    "print(\"----cheap-----\")\n",
    "print(\" \")\n",
    "print(len(df[df['Body'].str.contains(\"cheap\")])) \n",
    "print(len(df[df['Tags'].str.contains(\"cheap\")])) \n",
    "print(len(df[df['Title'].str.contains(\"cheap\")])) \n"
   ]
  },
  {
   "cell_type": "code",
   "execution_count": 14,
   "id": "35e228f8",
   "metadata": {},
   "outputs": [
    {
     "name": "stdout",
     "output_type": "stream",
     "text": [
      "143\n",
      "1\n",
      "4\n"
     ]
    }
   ],
   "source": [
    "print(len(df[df['Body'].str.contains(\"price\")]))\n",
    "print(len(df[df['Tags'].str.contains(\"price\")]))\n",
    "print(len(df[df['Title'].str.contains(\"price\")]))"
   ]
  },
  {
   "cell_type": "code",
   "execution_count": 15,
   "id": "2da31100",
   "metadata": {},
   "outputs": [
    {
     "name": "stdout",
     "output_type": "stream",
     "text": [
      "54\n",
      "0\n",
      "9\n"
     ]
    }
   ],
   "source": [
    "print(len(df[df['Body'].str.contains(\"pricing\")]))\n",
    "print(len(df[df['Tags'].str.contains(\"pricing\")]))\n",
    "print(len(df[df['Title'].str.contains(\"pricing\")]))"
   ]
  },
  {
   "cell_type": "code",
   "execution_count": 16,
   "id": "84d87aaa",
   "metadata": {},
   "outputs": [
    {
     "data": {
      "text/plain": [
       "15     53498090\n",
       "44     55226441\n",
       "128    64067790\n",
       "Name: Post Link, dtype: int64"
      ]
     },
     "execution_count": 16,
     "metadata": {},
     "output_type": "execute_result"
    }
   ],
   "source": [
    "body_cost = df[df['Body'].str.contains(\"cost\")]\n",
    "body_cost[\"Post Link\"].head(3)\n"
   ]
  },
  {
   "cell_type": "code",
   "execution_count": 17,
   "id": "b674dbeb",
   "metadata": {},
   "outputs": [
    {
     "name": "stdout",
     "output_type": "stream",
     "text": [
      "381\n"
     ]
    }
   ],
   "source": [
    "print(len(body_cost[\"Post Link\"]))"
   ]
  },
  {
   "cell_type": "code",
   "execution_count": 18,
   "id": "2fe34772",
   "metadata": {},
   "outputs": [
    {
     "name": "stdout",
     "output_type": "stream",
     "text": [
      "381\n"
     ]
    },
    {
     "name": "stderr",
     "output_type": "stream",
     "text": [
      "C:\\Users\\Eric\\AppData\\Local\\Temp/ipykernel_24992/453116675.py:10: FutureWarning: Passing 'suffixes' which cause duplicate columns {'ViewCount_x', 'CreationDate_x', 'LastEditorDisplayName_x', 'FavoriteCount_x', 'LastEditorUserId_x', 'ParentId_x', 'PostTypeId_x', 'CommentCount_x', 'Tags_x', 'Id_x', 'Title_x', 'Score_x', 'OwnerUserId_x', 'ContentLicense_x', 'OwnerDisplayName_x', 'LastEditDate_x', 'Body_x', 'CommunityOwnedDate_x', 'AcceptedAnswerId_x', 'ClosedDate_x', 'LastActivityDate_x', 'AnswerCount_x', 'DeletionDate_x'} in the result is deprecated and will raise a MergeError in a future version.\n",
      "  merged3 = merged2.merge(temp2, on='Post Link', how='outer')\n",
      "C:\\Users\\Eric\\AppData\\Local\\Temp/ipykernel_24992/453116675.py:16: FutureWarning: Passing 'suffixes' which cause duplicate columns {'ViewCount_x', 'CreationDate_x', 'LastEditorDisplayName_x', 'FavoriteCount_x', 'LastEditorUserId_x', 'ParentId_x', 'PostTypeId_x', 'CommentCount_x', 'Tags_x', 'Id_x', 'Title_x', 'Score_x', 'OwnerUserId_x', 'ContentLicense_x', 'OwnerDisplayName_x', 'LastEditDate_x', 'Body_x', 'CommunityOwnedDate_x', 'AcceptedAnswerId_x', 'ClosedDate_x', 'LastActivityDate_x', 'AnswerCount_x', 'DeletionDate_x'} in the result is deprecated and will raise a MergeError in a future version.\n",
      "  merged5 = merged4.merge(temp2, on='Post Link', how='outer')\n",
      "C:\\Users\\Eric\\AppData\\Local\\Temp/ipykernel_24992/453116675.py:22: FutureWarning: Passing 'suffixes' which cause duplicate columns {'ViewCount_x', 'CreationDate_x', 'LastEditorDisplayName_x', 'FavoriteCount_x', 'LastEditorUserId_x', 'ParentId_x', 'PostTypeId_x', 'CommentCount_x', 'Tags_x', 'Id_x', 'Title_x', 'Score_x', 'OwnerUserId_x', 'ContentLicense_x', 'OwnerDisplayName_x', 'LastEditDate_x', 'Body_x', 'CommunityOwnedDate_x', 'AcceptedAnswerId_x', 'ClosedDate_x', 'LastActivityDate_x', 'AnswerCount_x', 'DeletionDate_x'} in the result is deprecated and will raise a MergeError in a future version.\n",
      "  merged7 = merged6.merge(temp2, on='Post Link', how='outer')\n",
      "C:\\Users\\Eric\\AppData\\Local\\Temp/ipykernel_24992/453116675.py:28: FutureWarning: Passing 'suffixes' which cause duplicate columns {'ViewCount_x', 'CreationDate_x', 'LastEditorDisplayName_x', 'FavoriteCount_x', 'LastEditorUserId_x', 'ParentId_x', 'PostTypeId_x', 'CommentCount_x', 'Tags_x', 'Id_x', 'Title_x', 'Score_x', 'OwnerUserId_x', 'ContentLicense_x', 'OwnerDisplayName_x', 'LastEditDate_x', 'Body_x', 'CommunityOwnedDate_x', 'AcceptedAnswerId_x', 'ClosedDate_x', 'LastActivityDate_x', 'AnswerCount_x', 'DeletionDate_x'} in the result is deprecated and will raise a MergeError in a future version.\n",
      "  merged9 = merged8.merge(temp2, on='Post Link', how='outer')\n"
     ]
    },
    {
     "name": "stdout",
     "output_type": "stream",
     "text": [
      "1651\n",
      "1651\n"
     ]
    },
    {
     "name": "stderr",
     "output_type": "stream",
     "text": [
      "C:\\Users\\Eric\\AppData\\Local\\Temp/ipykernel_24992/453116675.py:34: FutureWarning: Passing 'suffixes' which cause duplicate columns {'ViewCount_x', 'CreationDate_x', 'LastEditorDisplayName_x', 'FavoriteCount_x', 'LastEditorUserId_x', 'ParentId_x', 'PostTypeId_x', 'CommentCount_x', 'Tags_x', 'Id_x', 'Title_x', 'Score_x', 'OwnerUserId_x', 'ContentLicense_x', 'OwnerDisplayName_x', 'LastEditDate_x', 'Body_x', 'CommunityOwnedDate_x', 'AcceptedAnswerId_x', 'ClosedDate_x', 'LastActivityDate_x', 'AnswerCount_x', 'DeletionDate_x'} in the result is deprecated and will raise a MergeError in a future version.\n",
      "  merged11 = merged10.merge(temp2, on='Post Link', how='outer')\n"
     ]
    }
   ],
   "source": [
    "\n",
    "temp1 = df[df['Body'].str.contains(\"cost\")]\n",
    "print(len(temp1))\n",
    "temp2 = df[df['Tags'].str.contains(\"cost\")]\n",
    "merged = temp1.merge(temp2, on='Post Link', how='outer')\n",
    "\n",
    "temp2 = df[df['Title'].str.contains(\"cost\")]\n",
    "merged2 = merged.merge(temp2, on='Post Link', how='outer')\n",
    "\n",
    "temp2 = df[df['Body'].str.contains(\"price\")]\n",
    "merged3 = merged2.merge(temp2, on='Post Link', how='outer')\n",
    "\n",
    "temp2 = df[df['Tags'].str.contains(\"price\")]\n",
    "merged4 = merged3.merge(temp2, on='Post Link', how='outer')\n",
    "\n",
    "temp2 = df[df['Title'].str.contains(\"price\")]\n",
    "merged5 = merged4.merge(temp2, on='Post Link', how='outer')\n",
    "\n",
    "temp2 = df[df['Body'].str.contains(\"pricing\")]\n",
    "merged6 = merged5.merge(temp2, on='Post Link', how='outer')\n",
    "\n",
    "temp2 = df[df['Tags'].str.contains(\"pricing\")]\n",
    "merged7 = merged6.merge(temp2, on='Post Link', how='outer')\n",
    "\n",
    "temp2 = df[df['Title'].str.contains(\"pricing\")]\n",
    "merged8 = merged7.merge(temp2, on='Post Link', how='outer')\n",
    "\n",
    "temp2 = df[df['Body'].str.contains(\"pay\")]\n",
    "merged9 = merged8.merge(temp2, on='Post Link', how='outer')\n",
    "\n",
    "temp2 = df[df['Tags'].str.contains(\"pay\")]\n",
    "merged10 = merged9.merge(temp2, on='Post Link', how='outer')\n",
    "\n",
    "temp2 = df[df['Title'].str.contains(\"pay\")]\n",
    "merged11 = merged10.merge(temp2, on='Post Link', how='outer')\n",
    "\n",
    "\n",
    "\n",
    "print(len(merged11))\n",
    "merged12 = merged11.drop_duplicates(subset=['Post Link'])\n",
    "print(len(merged12))\n"
   ]
  },
  {
   "cell_type": "code",
   "execution_count": 19,
   "id": "b55bc987",
   "metadata": {},
   "outputs": [
    {
     "name": "stdout",
     "output_type": "stream",
     "text": [
      "0    53498090\n",
      "1    55226441\n",
      "2    64067790\n",
      "3    70371456\n",
      "4    70388233\n",
      "Name: Post Link, dtype: int64\n",
      "(105,)\n",
      "0    70807025\n",
      "1    49387625\n",
      "2    52617888\n",
      "3    49107582\n",
      "4    68246082\n",
      "Name: Post Link, dtype: int64\n"
     ]
    }
   ],
   "source": [
    "export = merged9[\"Post Link\"]\n",
    "print(export.head())\n",
    "export = export.sample(frac=1).reset_index(drop=True)\n",
    "export = export.iloc[:105,]\n",
    "print(export.shape)\n",
    "print(export.head())\n"
   ]
  },
  {
   "cell_type": "code",
   "execution_count": 20,
   "id": "6dfbecfa",
   "metadata": {},
   "outputs": [],
   "source": [
    "export.to_csv(r'../exportPAY.csv', sep= \",\", index = False)"
   ]
  },
  {
   "cell_type": "code",
   "execution_count": 21,
   "id": "65964e20",
   "metadata": {},
   "outputs": [
    {
     "name": "stdout",
     "output_type": "stream",
     "text": [
      "1120\n",
      "38\n",
      "86\n"
     ]
    }
   ],
   "source": [
    "print(len(df[df['Body'].str.contains(\"pay\")]))\n",
    "print(len(df[df['Tags'].str.contains(\"pay\")])) \n",
    "print(len(df[df['Title'].str.contains(\"pay\")])) "
   ]
  },
  {
   "cell_type": "code",
   "execution_count": null,
   "id": "15b10434",
   "metadata": {},
   "outputs": [],
   "source": []
  }
 ],
 "metadata": {
  "kernelspec": {
   "display_name": "Python 3 (ipykernel)",
   "language": "python",
   "name": "python3"
  },
  "language_info": {
   "codemirror_mode": {
    "name": "ipython",
    "version": 3
   },
   "file_extension": ".py",
   "mimetype": "text/x-python",
   "name": "python",
   "nbconvert_exporter": "python",
   "pygments_lexer": "ipython3",
   "version": "3.8.12"
  }
 },
 "nbformat": 4,
 "nbformat_minor": 5
}
