{
 "cells": [
  {
   "cell_type": "code",
   "execution_count": 131,
   "id": "68b9db41",
   "metadata": {},
   "outputs": [],
   "source": [
    "# import\n",
    "import pandas as pd\n",
    "from collections import OrderedDict\n",
    "from operator import itemgetter    \n",
    "import re\n",
    "from bs4 import BeautifulSoup\n",
    "\n",
    "import numpy as np\n",
    "import json\n",
    "import glob\n",
    "import nltk\n",
    "import gensim\n",
    "import gensim.corpora as corpora\n",
    "from gensim.utils import simple_preprocess\n",
    "from gensim.models import CoherenceModel\n",
    "\n",
    "from pprint import pprint\n",
    "\n",
    "#spacy\n",
    "import spacy\n",
    "from nltk.corpus import stopwords\n",
    "\n",
    "#vis\n",
    "import pyLDAvis\n",
    "\n",
    "# This one is hanged from .gensim to gensim_models\n",
    "import pyLDAvis.gensim_models\n",
    "\n",
    "import warnings\n",
    "warnings.filterwarnings(\"ignore\", category=DeprecationWarning)\n",
    "import matplotlib.pyplot as plt\n",
    "import numpy as np\n",
    "import seaborn as sns"
   ]
  },
  {
   "cell_type": "code",
   "execution_count": 132,
   "id": "c302a3cf",
   "metadata": {},
   "outputs": [
    {
     "name": "stdout",
     "output_type": "stream",
     "text": [
      "(21138, 23)\n"
     ]
    }
   ],
   "source": [
    "df = pd.read_csv(r'../QBT/Empirical.csv', sep=',')\n",
    "print(df.shape)\n"
   ]
  },
  {
   "cell_type": "code",
   "execution_count": 133,
   "id": "180d6798",
   "metadata": {},
   "outputs": [
    {
     "name": "stdout",
     "output_type": "stream",
     "text": [
      "-----\n",
      "(21138, 24)\n"
     ]
    }
   ],
   "source": [
    "# Removing the \"code\" and \"a\" tag first, we want to delete what is inside the tag aswell, remvoing \"a href\" links and code snippets.\n",
    "\n",
    "new_list = []\n",
    "list_body = df[\"Body\"].to_list()\n",
    "temp = list_body\n",
    "\n",
    "#print(list_body[2])\n",
    "#print(\"-----\")\n",
    "\n",
    "for x in range(len(temp)):\n",
    "    soup = BeautifulSoup(temp[x])\n",
    "    codetags = soup.find_all(['code', 'a'])\n",
    "    for codetag in codetags:\n",
    "        codetag.extract()\n",
    "        \n",
    "    #print(soup)\n",
    "    #print(str(soup))\n",
    "    \n",
    "    new_list.append(str(soup))\n",
    "\n",
    "#print(len(new_list))\n",
    "#print(new_list[2])\n",
    "#print(df[\"Body\"][1])\n",
    "\n",
    "print(\"-----\")\n",
    "df[\"Body_new\"] = new_list\n",
    "\n",
    "#print(df[\"Body_new\"][2])\n",
    "print(df.shape)"
   ]
  },
  {
   "cell_type": "code",
   "execution_count": 134,
   "id": "955f60cd",
   "metadata": {},
   "outputs": [
    {
     "name": "stdout",
     "output_type": "stream",
     "text": [
      "I have a node function that gets a link to YouTube video and sends a request to    Its a website that allows to download MP3 from YT  Then it parses the response HTML to get a direct download link from the document (using a library called cheerio  but if Youre not familiar with it  its just for scraping the link from HTML)  and afterwards opens the link to download the MP3  My code:  While working on my machine  this code works correctly  The console log gives a link which I can open on my browser and see that the mp3 is actually downloading  But when I run it on Lambda  the link I get has the correct format  but its simply not working  It redirects to some non-existing domain  Im not entirely sure how is this even possible  The only thing I might think about is that the website may think that the program is a bot (logically) and give a wrong link (which sounds pretty bizzare)  But I decided to also send some user-agent headers  It didnt work either  Im really confused about how can this be possible and dont even know what else to try  Any thoughts  \n"
     ]
    }
   ],
   "source": [
    "# Removing chacter and tags from the dataframe\n",
    "\n",
    "# Removing the remaning tags\n",
    "df[\"Body_new\"] = df.Body_new.apply(lambda x: re.sub('<[^<]+?>', '', x))\n",
    "\n",
    "# Removing ''\n",
    "df[\"Body_new\"] = df.Body_new.apply(lambda x: re.sub('\\'', '', x))\n",
    "\n",
    "# Removing \"\"\n",
    "df[\"Body_new\"] = df.Body_new.apply(lambda x: re.sub('\\\"', '', x))\n",
    "\n",
    "df[\"Body_new\"] = df.Body_new.apply(lambda x: re.sub('\\.', ' ', x))\n",
    "\n",
    "df[\"Body_new\"] = df.Body_new.apply(lambda x: re.sub('\\,', ' ', x))\n",
    "\n",
    "df[\"Body_new\"] = df.Body_new.apply(lambda x: re.sub('\\!', ' ', x))\n",
    "\n",
    "df[\"Body_new\"] = df.Body_new.apply(lambda x: re.sub('\\?', ' ', x))\n",
    "\n",
    "df[\"Body_new\"] = df.Body_new.apply(lambda x: re.sub('\\\\n', ' ', x))\n",
    "\n",
    "\n",
    "print(df[\"Body_new\"][1])"
   ]
  },
  {
   "cell_type": "code",
   "execution_count": null,
   "id": "bdb5a4a8",
   "metadata": {},
   "outputs": [],
   "source": []
  },
  {
   "cell_type": "code",
   "execution_count": null,
   "id": "21df7dce",
   "metadata": {},
   "outputs": [],
   "source": []
  },
  {
   "cell_type": "code",
   "execution_count": 135,
   "id": "c2bcde92",
   "metadata": {},
   "outputs": [
    {
     "name": "stdout",
     "output_type": "stream",
     "text": [
      "20926\n"
     ]
    }
   ],
   "source": [
    "# Getting all posts with Empirical tags, this is beacuse our initial dataset contains posts with a \"master\"-tag of the set of tags\n",
    "\n",
    "list_of_tages13 = [\"<serverless>\", \"<faas>\", \"<serverless-framework>\", \"<aws-serverless>\", \"<openwhisk>\", \"<aws-lambda>\", \"<aws-sam>\", \"<aws-sam-cli>\", \n",
    "\"<serverless-architecture>\", \"<serverless-offline>\", \"<vercel>\", \"<serverless-plugins>\", \"<localstack>\"]\n",
    "\n",
    "What_we_want = df[df[\"Tags\"].str.contains('|'.join(list_of_tages13))]\n",
    "print(len(What_we_want))\n",
    "\n",
    "df = What_we_want\n",
    "\n"
   ]
  },
  {
   "cell_type": "code",
   "execution_count": 136,
   "id": "67ede5ba",
   "metadata": {},
   "outputs": [],
   "source": [
    "#  Code for creating dictonary that is counting the number of posts iwth the specific tag.\n",
    "#What_we_want = What_we_want[\"Tags\"].str.replace(r'<', '')\n",
    "#What_we_want = What_we_want.str.replace(r'>', ' ')\n",
    "#tags_list = What_we_want.tolist()\n",
    "\n",
    "#list_of_tags = []\n",
    "#for x in range(len(tags_list)):\n",
    "#    list_of_tags.extend(tags_list[x].split())\n",
    "\n",
    "\n",
    "#d = {i:list_of_tags.count(i) for i in list_of_tags}\n",
    "#print(OrderedDict(sorted(d.items(), key = itemgetter(1), reverse = True)))"
   ]
  },
  {
   "cell_type": "code",
   "execution_count": 137,
   "id": "2079f516",
   "metadata": {},
   "outputs": [
    {
     "name": "stdout",
     "output_type": "stream",
     "text": [
      "Index(['Id', 'PostTypeId', 'AcceptedAnswerId', 'ParentId', 'CreationDate',\n",
      "       'DeletionDate', 'Score', 'ViewCount', 'Body', 'OwnerUserId',\n",
      "       'OwnerDisplayName', 'LastEditorUserId', 'LastEditorDisplayName',\n",
      "       'LastEditDate', 'LastActivityDate', 'Title', 'Tags', 'AnswerCount',\n",
      "       'CommentCount', 'FavoriteCount', 'ClosedDate', 'CommunityOwnedDate',\n",
      "       'ContentLicense', 'Body_new'],\n",
      "      dtype='object')\n"
     ]
    },
    {
     "data": {
      "text/plain": [
       "1.5611201376278314"
      ]
     },
     "execution_count": 137,
     "metadata": {},
     "output_type": "execute_result"
    }
   ],
   "source": [
    "print(df.columns)\n",
    "df[\"CommentCount\"].mean()"
   ]
  },
  {
   "cell_type": "code",
   "execution_count": 138,
   "id": "8a1dd116",
   "metadata": {},
   "outputs": [
    {
     "name": "stdout",
     "output_type": "stream",
     "text": [
      "---- cost----\n",
      "Body count: 277\n",
      "---- pricing----\n",
      "Body count: 30\n",
      "---- Fee ----\n",
      "Body count: 4\n",
      "---- Charge----\n",
      "Body count: 65\n",
      "----Expensive----\n",
      "Body count: 71\n",
      "---- Pay ----\n",
      "Body count: 44\n",
      "---- Payment----\n",
      "Body count: 33\n",
      "---- bill ----\n",
      "Body count: 15\n",
      "---- Cheap----\n",
      "Body count: 31\n",
      "---- Budget----\n",
      "Body count: 6\n",
      "576\n"
     ]
    }
   ],
   "source": [
    "synonyms = [\" cost\",\" pricing\",\" Fee \",\" Charge\",\"Expensive\", \" Pay \",\" Payment\",\" bill \" ,\" Cheap\" ,\" Budget\"]\n",
    "\n",
    "count = 0\n",
    "for word in synonyms:\n",
    "    print(\"----\" + str(word) + \"----\")\n",
    "    print(\"Body count: \" + str(len(df[df['Body_new'].str.contains(word, case=False)])))\n",
    "    count= count + len(df[df['Body_new'].str.contains(word, case=False)])\n",
    "print(count)"
   ]
  },
  {
   "cell_type": "code",
   "execution_count": 139,
   "id": "35e228f8",
   "metadata": {},
   "outputs": [
    {
     "name": "stdout",
     "output_type": "stream",
     "text": [
      "499\n",
      "499\n"
     ]
    }
   ],
   "source": [
    "# filtering out the final dataset\n",
    "\n",
    "#df_temp = pd.DataFrame()\n",
    "columns = [\"Body_new\", \"Body\", \"Id\"]\n",
    "df_filtered = df[df[\"Body_new\"].str.contains('|'.join(synonyms), case=False)]\n",
    "print(len(df_filtered))\n",
    "\n",
    "# Exporting the final data set for analysis\n",
    "print(len(df_filtered))\n",
    "columns = [\"Id\", \"Body_new\"]\n",
    "df_export = df_filtered[columns]\n",
    "df_export = df_export.sample(frac=1).reset_index(drop=True)\n",
    "#df_export.to_csv(r'../final_dataset_0429.csv', sep= \",\", index = False)\n",
    "\n",
    "\n"
   ]
  },
  {
   "cell_type": "code",
   "execution_count": 140,
   "id": "fef12578",
   "metadata": {},
   "outputs": [
    {
     "name": "stdout",
     "output_type": "stream",
     "text": [
      "Index(['Id', 'PostTypeId', 'AcceptedAnswerId', 'ParentId', 'CreationDate',\n",
      "       'DeletionDate', 'Score', 'ViewCount', 'Body', 'OwnerUserId',\n",
      "       'OwnerDisplayName', 'LastEditorUserId', 'LastEditorDisplayName',\n",
      "       'LastEditDate', 'LastActivityDate', 'Title', 'Tags', 'AnswerCount',\n",
      "       'CommentCount', 'FavoriteCount', 'ClosedDate', 'CommunityOwnedDate',\n",
      "       'ContentLicense', 'Body_new'],\n",
      "      dtype='object')\n"
     ]
    },
    {
     "data": {
      "text/html": [
       "<div>\n",
       "<style scoped>\n",
       "    .dataframe tbody tr th:only-of-type {\n",
       "        vertical-align: middle;\n",
       "    }\n",
       "\n",
       "    .dataframe tbody tr th {\n",
       "        vertical-align: top;\n",
       "    }\n",
       "\n",
       "    .dataframe thead th {\n",
       "        text-align: right;\n",
       "    }\n",
       "</style>\n",
       "<table border=\"1\" class=\"dataframe\">\n",
       "  <thead>\n",
       "    <tr style=\"text-align: right;\">\n",
       "      <th></th>\n",
       "      <th>Body_new</th>\n",
       "      <th>Body</th>\n",
       "      <th>Id</th>\n",
       "      <th>AnswerCount</th>\n",
       "      <th>ViewCount</th>\n",
       "      <th>AcceptedAnswerId</th>\n",
       "      <th>CreationDate</th>\n",
       "    </tr>\n",
       "  </thead>\n",
       "  <tbody>\n",
       "    <tr>\n",
       "      <th>7</th>\n",
       "      <td>I am integrating a payment solution which uses...</td>\n",
       "      <td>&lt;p&gt;I am integrating a payment solution which u...</td>\n",
       "      <td>54114957</td>\n",
       "      <td>1</td>\n",
       "      <td>881</td>\n",
       "      <td>NaN</td>\n",
       "      <td>2019-01-09 16:55:31</td>\n",
       "    </tr>\n",
       "    <tr>\n",
       "      <th>42</th>\n",
       "      <td>I am using API Gateway to build a patch method...</td>\n",
       "      <td>&lt;p&gt;I am using API Gateway to build a patch met...</td>\n",
       "      <td>36036500</td>\n",
       "      <td>1</td>\n",
       "      <td>627</td>\n",
       "      <td>36161069.0</td>\n",
       "      <td>2016-03-16 13:02:51</td>\n",
       "    </tr>\n",
       "    <tr>\n",
       "      <th>63</th>\n",
       "      <td>I have an AWS Lambda function which triggers h...</td>\n",
       "      <td>&lt;p&gt;I have an AWS Lambda function which trigger...</td>\n",
       "      <td>54287228</td>\n",
       "      <td>1</td>\n",
       "      <td>696</td>\n",
       "      <td>NaN</td>\n",
       "      <td>2019-01-21 09:47:52</td>\n",
       "    </tr>\n",
       "    <tr>\n",
       "      <th>104</th>\n",
       "      <td>My current Situation: I currently have a Pytho...</td>\n",
       "      <td>&lt;p&gt;&lt;strong&gt;My current Situation:&lt;/strong&gt;&lt;/p&gt;\\...</td>\n",
       "      <td>36298053</td>\n",
       "      <td>3</td>\n",
       "      <td>634</td>\n",
       "      <td>36300028.0</td>\n",
       "      <td>2016-03-30 01:28:16</td>\n",
       "    </tr>\n",
       "    <tr>\n",
       "      <th>123</th>\n",
       "      <td>i am new to aws serverless  and trying to host...</td>\n",
       "      <td>&lt;p&gt;i am new to aws serverless, and trying to h...</td>\n",
       "      <td>54473954</td>\n",
       "      <td>1</td>\n",
       "      <td>246</td>\n",
       "      <td>NaN</td>\n",
       "      <td>2019-02-01 06:21:53</td>\n",
       "    </tr>\n",
       "  </tbody>\n",
       "</table>\n",
       "</div>"
      ],
      "text/plain": [
       "                                              Body_new  \\\n",
       "7    I am integrating a payment solution which uses...   \n",
       "42   I am using API Gateway to build a patch method...   \n",
       "63   I have an AWS Lambda function which triggers h...   \n",
       "104  My current Situation: I currently have a Pytho...   \n",
       "123  i am new to aws serverless  and trying to host...   \n",
       "\n",
       "                                                  Body        Id  AnswerCount  \\\n",
       "7    <p>I am integrating a payment solution which u...  54114957            1   \n",
       "42   <p>I am using API Gateway to build a patch met...  36036500            1   \n",
       "63   <p>I have an AWS Lambda function which trigger...  54287228            1   \n",
       "104  <p><strong>My current Situation:</strong></p>\\...  36298053            3   \n",
       "123  <p>i am new to aws serverless, and trying to h...  54473954            1   \n",
       "\n",
       "     ViewCount  AcceptedAnswerId         CreationDate  \n",
       "7          881               NaN  2019-01-09 16:55:31  \n",
       "42         627        36161069.0  2016-03-16 13:02:51  \n",
       "63         696               NaN  2019-01-21 09:47:52  \n",
       "104        634        36300028.0  2016-03-30 01:28:16  \n",
       "123        246               NaN  2019-02-01 06:21:53  "
      ]
     },
     "execution_count": 140,
     "metadata": {},
     "output_type": "execute_result"
    }
   ],
   "source": [
    "print(df_filtered.columns)\n",
    "columns = [\"Body_new\", \"Body\", \"Id\", \"AnswerCount\", \"ViewCount\", \"AcceptedAnswerId\", \"CreationDate\"]\n",
    "df_filtered = df_filtered[columns]\n",
    "df_filtered.head()"
   ]
  },
  {
   "cell_type": "code",
   "execution_count": 141,
   "id": "2da31100",
   "metadata": {},
   "outputs": [],
   "source": [
    "df_analysis = pd.read_excel('categories.xlsx', index_col=0)\n"
   ]
  },
  {
   "cell_type": "code",
   "execution_count": 142,
   "id": "84d87aaa",
   "metadata": {},
   "outputs": [
    {
     "name": "stdout",
     "output_type": "stream",
     "text": [
      "RangeIndex(start=0, stop=499, step=1)\n",
      "           Id                                               Body  \\\n",
      "0  60856781.0  When triggering my Spring Boot application on ...   \n",
      "1  55740175.0  What is the simplest and most cost effective w...   \n",
      "2  58876798.0  Im doing a POC to find out how fast DynamoDB i...   \n",
      "3  46168826.0  I am using the serverless framework with nodej...   \n",
      "4  46154682.0  I am looking at serverless architecture to pro...   \n",
      "\n",
      "                                 General Codes max 2  \\\n",
      "0  Lambda Error, Unsure,  avoid cost EC2 instance...   \n",
      "1  Simple solution, Cost Effective solution, Trig...   \n",
      "2  fast Dynamo DB, capacity on demand mode, AWS L...   \n",
      "3  nodejs,  AWS lambda function, mysql, sequelize...   \n",
      "4   gurantee executional isolation from cloud ser...   \n",
      "\n",
      "                       Cost related Codes, Unlimited Category        id  \n",
      "0  Cost Reduction by choosing spring boot instead...        A  60856781  \n",
      "1                            Cost effective solution        B  55740175  \n",
      "2                                 Extra cost for DAX        A  58876798  \n",
      "3                      Extra cost from timeOut error        A  46168826  \n",
      "4                                                NaN        A  46154682  \n",
      "Int64Index([    7,    42,    63,   104,   123,   305,   323,   325,   387,\n",
      "              444,\n",
      "            ...\n",
      "            20568, 20604, 20617, 20627, 20678, 20682, 20730, 20960, 21017,\n",
      "            21036],\n",
      "           dtype='int64', length=499)\n",
      "                                              Body_new  \\\n",
      "7    I am integrating a payment solution which uses...   \n",
      "42   I am using API Gateway to build a patch method...   \n",
      "63   I have an AWS Lambda function which triggers h...   \n",
      "104  My current Situation: I currently have a Pytho...   \n",
      "123  i am new to aws serverless  and trying to host...   \n",
      "\n",
      "                                                  Body        Id  AnswerCount  \\\n",
      "7    <p>I am integrating a payment solution which u...  54114957            1   \n",
      "42   <p>I am using API Gateway to build a patch met...  36036500            1   \n",
      "63   <p>I have an AWS Lambda function which trigger...  54287228            1   \n",
      "104  <p><strong>My current Situation:</strong></p>\\...  36298053            3   \n",
      "123  <p>i am new to aws serverless, and trying to h...  54473954            1   \n",
      "\n",
      "     ViewCount  AcceptedAnswerId         CreationDate  \n",
      "7          881               NaN  2019-01-09 16:55:31  \n",
      "42         627        36161069.0  2016-03-16 13:02:51  \n",
      "63         696               NaN  2019-01-21 09:47:52  \n",
      "104        634        36300028.0  2016-03-30 01:28:16  \n",
      "123        246               NaN  2019-02-01 06:21:53  \n"
     ]
    }
   ],
   "source": [
    "df_analysis[\"Category\"].value_counts()\n",
    "#df_analysis[\"Id\"] = df_analysis[\"Id\"].astype(\"int\")\n",
    "df_analysis[\"id\"] = df_analysis.index.astype(int)\n",
    "df_analysis = df_analysis.reset_index()\n",
    "print(df_analysis.index)\n",
    "#print(df_analysis.columns)\n",
    "print(df_analysis.head())\n",
    "\n",
    "print(df_filtered.index)\n",
    "#print(df_filtered.columns)\n",
    "print(df_filtered.head())\n"
   ]
  },
  {
   "cell_type": "code",
   "execution_count": 143,
   "id": "b674dbeb",
   "metadata": {},
   "outputs": [],
   "source": [
    "# Mergning the dfs\n",
    "result = pd.merge(df_filtered, df_analysis, left_on=\"Id\", right_on=\"id\", how=\"outer\")"
   ]
  },
  {
   "cell_type": "code",
   "execution_count": 144,
   "id": "2fe34772",
   "metadata": {},
   "outputs": [
    {
     "data": {
      "text/plain": [
       "(499, 13)"
      ]
     },
     "execution_count": 144,
     "metadata": {},
     "output_type": "execute_result"
    }
   ],
   "source": [
    "result.shape"
   ]
  },
  {
   "cell_type": "code",
   "execution_count": 145,
   "id": "b55bc987",
   "metadata": {},
   "outputs": [
    {
     "data": {
      "text/plain": [
       "Index(['Body_new', 'Body_x', 'Id_x', 'AnswerCount', 'ViewCount',\n",
       "       'AcceptedAnswerId', 'CreationDate', 'Id_y', 'Body_y',\n",
       "       'General Codes max 2', 'Cost related Codes, Unlimited', 'Category',\n",
       "       'id'],\n",
       "      dtype='object')"
      ]
     },
     "execution_count": 145,
     "metadata": {},
     "output_type": "execute_result"
    }
   ],
   "source": [
    "result.columns"
   ]
  },
  {
   "cell_type": "code",
   "execution_count": 146,
   "id": "6dfbecfa",
   "metadata": {},
   "outputs": [
    {
     "name": "stdout",
     "output_type": "stream",
     "text": [
      "2016-03-16 13:02:51\n",
      "2016\n",
      "0             NaN\n",
      "1      36161069.0\n",
      "2             NaN\n",
      "3      36300028.0\n",
      "4             NaN\n",
      "          ...    \n",
      "494           NaN\n",
      "495           NaN\n",
      "496           NaN\n",
      "497    67303546.0\n",
      "498           NaN\n",
      "Name: AcceptedAnswerId, Length: 499, dtype: float64\n",
      "0      0\n",
      "1      1\n",
      "2      0\n",
      "3      1\n",
      "4      0\n",
      "      ..\n",
      "494    0\n",
      "495    0\n",
      "496    0\n",
      "497    1\n",
      "498    0\n",
      "Name: AcceptedAnswerId, Length: 499, dtype: int64\n"
     ]
    }
   ],
   "source": [
    "# Creating new year column\n",
    "result['CreationDate'] = pd.to_datetime(result['CreationDate'])\n",
    "result['Year'] = pd.DatetimeIndex(result['CreationDate']).year\n",
    "print(result[\"CreationDate\"][1])\n",
    "print(result[\"Year\"][1])\n",
    "\n",
    "# Create new AcceptedAnswerId column\n",
    "\n",
    "print(result[\"AcceptedAnswerId\"])\n",
    "result[\"AcceptedAnswerId\"] =  result[\"AcceptedAnswerId\"].fillna(0)\n",
    "result[\"AcceptedAnswerId\"] =  result[\"AcceptedAnswerId\"].astype(\"int64\")\n",
    "result[\"AcceptedAnswerId\"].where(result[\"AcceptedAnswerId\"] <=1, 1, inplace=True)\n",
    "print(result[\"AcceptedAnswerId\"])"
   ]
  },
  {
   "cell_type": "code",
   "execution_count": 149,
   "id": "65964e20",
   "metadata": {},
   "outputs": [
    {
     "name": "stdout",
     "output_type": "stream",
     "text": [
      "480\n"
     ]
    }
   ],
   "source": [
    "# Checking if categories are missing in any of the rows, this should result in 0\n",
    "print(result[\"Category\"].isna().sum())"
   ]
  },
  {
   "cell_type": "code",
   "execution_count": 150,
   "id": "15b10434",
   "metadata": {},
   "outputs": [
    {
     "name": "stdout",
     "output_type": "stream",
     "text": [
      "(4, 14)\n",
      "(9, 14)\n",
      "(3, 14)\n",
      "(2, 14)\n",
      "(1, 14)\n"
     ]
    }
   ],
   "source": [
    "# creating dummy df to test code\n",
    "result_temp = result.copy()\n",
    "result_temp.dropna(subset = [\"Category\"], inplace=True)\n",
    "\n",
    "# Create new dataframes for each category\n",
    "list_of_dfs = []\n",
    "cat = result_temp[\"Category\"].unique()\n",
    "\n",
    "frames = {}\n",
    "for x in cat:\n",
    "    frames[x] = result_temp[result_temp[\"Category\"] == x]\n",
    "\n",
    "for x in cat:\n",
    "    print(frames[x].shape)"
   ]
  },
  {
   "cell_type": "code",
   "execution_count": 159,
   "id": "39993fd8",
   "metadata": {},
   "outputs": [
    {
     "data": {
      "image/png": "[encoded data removed]",
      "text/plain": [
       "<Figure size 432x288 with 1 Axes>"
      ]
     },
     "metadata": {},
     "output_type": "display_data"
    }
   ],
   "source": []
  },
  {
   "cell_type": "code",
   "execution_count": 57,
   "id": "9ac0d66b",
   "metadata": {},
   "outputs": [
    {
     "data": {
      "text/plain": [
       "<AxesSubplot:xlabel='Category', ylabel='count'>"
      ]
     },
     "execution_count": 57,
     "metadata": {},
     "output_type": "execute_result"
    },
    {
     "data": {
      "image/png": "[encoded data removed]",
      "text/plain": [
       "<Figure size 432x288 with 1 Axes>"
      ]
     },
     "metadata": {},
     "output_type": "display_data"
    }
   ],
   "source": []
  },
  {
   "cell_type": "code",
   "execution_count": 152,
   "id": "a998e3ba",
   "metadata": {},
   "outputs": [],
   "source": [
    "#sns.relplot(data=result_temp, x=\"Year\", y = \"Category\", hue = \"Category\")"
   ]
  },
  {
   "cell_type": "code",
   "execution_count": 154,
   "id": "61b5cfda",
   "metadata": {},
   "outputs": [
    {
     "data": {
      "text/plain": [
       "<seaborn.axisgrid.FacetGrid at 0x16d61f43ac0>"
      ]
     },
     "execution_count": 154,
     "metadata": {},
     "output_type": "execute_result"
    },
    {
     "data": {
      "image/png": "[encoded data removed]",
      "text/plain": [
       "<Figure size 417.425x360 with 1 Axes>"
      ]
     },
     "metadata": {},
     "output_type": "display_data"
    }
   ],
   "source": [
    "# Line plot for all categories\n",
    "sns.catplot(x=\"Year\", y=\"ViewCount\", hue=\"Category\", kind=\"point\", data=result_temp)\n"
   ]
  },
  {
   "cell_type": "code",
   "execution_count": 157,
   "id": "65124c19",
   "metadata": {},
   "outputs": [
    {
     "data": {
      "text/plain": [
       "<seaborn.axisgrid.FacetGrid at 0x16d50f04cd0>"
      ]
     },
     "execution_count": 157,
     "metadata": {},
     "output_type": "execute_result"
    },
    {
     "data": {
      "image/png": "[encoded data removed]",
      "text/plain": [
       "<Figure size 417.425x360 with 1 Axes>"
      ]
     },
     "metadata": {},
     "output_type": "display_data"
    }
   ],
   "source": [
    "#  ViewCount for all categories category X\n",
    "sns.relplot(data=result_temp, y=\"ViewCount\", x = \"Year\", style= \"Category\", hue = \"Category\", kind=\"line\")"
   ]
  },
  {
   "cell_type": "code",
   "execution_count": 60,
   "id": "2630a08d",
   "metadata": {},
   "outputs": [
    {
     "data": {
      "image/png": "[encoded data removed]",
      "text/plain": [
       "<Figure size 489.425x432 with 1 Axes>"
      ]
     },
     "metadata": {},
     "output_type": "display_data"
    }
   ],
   "source": []
  },
  {
   "cell_type": "code",
   "execution_count": 61,
   "id": "99dc19dc",
   "metadata": {},
   "outputs": [
    {
     "data": {
      "image/png": "[encoded data removed]",
      "text/plain": [
       "<Figure size 489.425x432 with 1 Axes>"
      ]
     },
     "metadata": {},
     "output_type": "display_data"
    }
   ],
   "source": [
    "sns.set_theme(style=\"whitegrid\")\n",
    "\n",
    "\n",
    "# Draw a nested barplot by species and sex\n",
    "g = sns.catplot(\n",
    "    data=result_temp, kind=\"bar\",\n",
    "    x=\"Year\", y=\"ViewCount\", hue=\"Category\",\n",
    "    ci=\"sd\", palette=\"dark\", alpha=.6, height=6\n",
    ")\n",
    "g.despine(left=True)\n",
    "g.set_axis_labels(\"Year\", \"Nr of Views\")\n",
    "g.legend.set_title(\"\")"
   ]
  },
  {
   "cell_type": "code",
   "execution_count": 62,
   "id": "050f45af",
   "metadata": {},
   "outputs": [
    {
     "name": "stdout",
     "output_type": "stream",
     "text": [
      "(5,)\n",
      "Category\n",
      "A    1.000000\n",
      "B    1.000000\n",
      "C    1.500000\n",
      "D    1.000000\n",
      "E    1.666667\n",
      "Name: AnswerCount, dtype: float64\n"
     ]
    },
    {
     "data": {
      "image/png": "[encoded data removed]",
      "text/plain": [
       "<Figure size 432x360 with 1 Axes>"
      ]
     },
     "metadata": {},
     "output_type": "display_data"
    }
   ],
   "source": []
  },
  {
   "cell_type": "code",
   "execution_count": null,
   "id": "670d2be7",
   "metadata": {},
   "outputs": [],
   "source": []
  },
  {
   "cell_type": "code",
   "execution_count": null,
   "id": "132a25a8",
   "metadata": {},
   "outputs": [],
   "source": []
  },
  {
   "cell_type": "code",
   "execution_count": null,
   "id": "ee81c2c7",
   "metadata": {},
   "outputs": [],
   "source": []
  }
 ],
 "metadata": {
  "kernelspec": {
   "display_name": "Python 3 (ipykernel)",
   "language": "python",
   "name": "python3"
  },
  "language_info": {
   "codemirror_mode": {
    "name": "ipython",
    "version": 3
   },
   "file_extension": ".py",
   "mimetype": "text/x-python",
   "name": "python",
   "nbconvert_exporter": "python",
   "pygments_lexer": "ipython3",
   "version": "3.8.12"
  }
 },
 "nbformat": 4,
 "nbformat_minor": 5
}
